{
 "cells": [
  {
   "cell_type": "markdown",
   "id": "c9c7adb4",
   "metadata": {},
   "source": [
    "# Анализ датасета 'Students Performance in Exams'"
   ]
  },
  {
   "cell_type": "code",
   "execution_count": 873,
   "id": "2f105017",
   "metadata": {},
   "outputs": [
    {
     "data": {
      "text/html": [
       "<div>\n",
       "<style scoped>\n",
       "    .dataframe tbody tr th:only-of-type {\n",
       "        vertical-align: middle;\n",
       "    }\n",
       "\n",
       "    .dataframe tbody tr th {\n",
       "        vertical-align: top;\n",
       "    }\n",
       "\n",
       "    .dataframe thead th {\n",
       "        text-align: right;\n",
       "    }\n",
       "</style>\n",
       "<table border=\"1\" class=\"dataframe\">\n",
       "  <thead>\n",
       "    <tr style=\"text-align: right;\">\n",
       "      <th></th>\n",
       "      <th>gender</th>\n",
       "      <th>race/ethnicity</th>\n",
       "      <th>parental level of education</th>\n",
       "      <th>lunch</th>\n",
       "      <th>test preparation course</th>\n",
       "      <th>math score</th>\n",
       "      <th>reading score</th>\n",
       "      <th>writing score</th>\n",
       "    </tr>\n",
       "  </thead>\n",
       "  <tbody>\n",
       "    <tr>\n",
       "      <th>0</th>\n",
       "      <td>male</td>\n",
       "      <td>group A</td>\n",
       "      <td>high school</td>\n",
       "      <td>standard</td>\n",
       "      <td>completed</td>\n",
       "      <td>67</td>\n",
       "      <td>67</td>\n",
       "      <td>63</td>\n",
       "    </tr>\n",
       "    <tr>\n",
       "      <th>1</th>\n",
       "      <td>female</td>\n",
       "      <td>group D</td>\n",
       "      <td>some high school</td>\n",
       "      <td>free/reduced</td>\n",
       "      <td>none</td>\n",
       "      <td>40</td>\n",
       "      <td>59</td>\n",
       "      <td>55</td>\n",
       "    </tr>\n",
       "    <tr>\n",
       "      <th>2</th>\n",
       "      <td>male</td>\n",
       "      <td>group E</td>\n",
       "      <td>some college</td>\n",
       "      <td>free/reduced</td>\n",
       "      <td>none</td>\n",
       "      <td>59</td>\n",
       "      <td>60</td>\n",
       "      <td>50</td>\n",
       "    </tr>\n",
       "    <tr>\n",
       "      <th>3</th>\n",
       "      <td>male</td>\n",
       "      <td>group B</td>\n",
       "      <td>high school</td>\n",
       "      <td>standard</td>\n",
       "      <td>none</td>\n",
       "      <td>77</td>\n",
       "      <td>78</td>\n",
       "      <td>68</td>\n",
       "    </tr>\n",
       "    <tr>\n",
       "      <th>4</th>\n",
       "      <td>male</td>\n",
       "      <td>group E</td>\n",
       "      <td>associate's degree</td>\n",
       "      <td>standard</td>\n",
       "      <td>completed</td>\n",
       "      <td>78</td>\n",
       "      <td>73</td>\n",
       "      <td>68</td>\n",
       "    </tr>\n",
       "  </tbody>\n",
       "</table>\n",
       "</div>"
      ],
      "text/plain": [
       "   gender race/ethnicity parental level of education         lunch  \\\n",
       "0    male        group A                 high school      standard   \n",
       "1  female        group D            some high school  free/reduced   \n",
       "2    male        group E                some college  free/reduced   \n",
       "3    male        group B                 high school      standard   \n",
       "4    male        group E          associate's degree      standard   \n",
       "\n",
       "  test preparation course  math score  reading score  writing score  \n",
       "0               completed          67             67             63  \n",
       "1                    none          40             59             55  \n",
       "2                    none          59             60             50  \n",
       "3                    none          77             78             68  \n",
       "4               completed          78             73             68  "
      ]
     },
     "execution_count": 873,
     "metadata": {},
     "output_type": "execute_result"
    }
   ],
   "source": [
    "import pandas as pd\n",
    "import numpy as np\n",
    "import warnings\n",
    "warnings.filterwarnings('ignore')\n",
    "exams = pd.read_csv('exams.csv')\n",
    "exams.head()"
   ]
  },
  {
   "cell_type": "code",
   "execution_count": 874,
   "id": "a99f1495",
   "metadata": {},
   "outputs": [
    {
     "name": "stdout",
     "output_type": "stream",
     "text": [
      "<class 'pandas.core.frame.DataFrame'>\n",
      "RangeIndex: 1000 entries, 0 to 999\n",
      "Data columns (total 8 columns):\n",
      " #   Column                       Non-Null Count  Dtype \n",
      "---  ------                       --------------  ----- \n",
      " 0   gender                       1000 non-null   object\n",
      " 1   race/ethnicity               1000 non-null   object\n",
      " 2   parental level of education  1000 non-null   object\n",
      " 3   lunch                        1000 non-null   object\n",
      " 4   test preparation course      1000 non-null   object\n",
      " 5   math score                   1000 non-null   int64 \n",
      " 6   reading score                1000 non-null   int64 \n",
      " 7   writing score                1000 non-null   int64 \n",
      "dtypes: int64(3), object(5)\n",
      "memory usage: 62.6+ KB\n"
     ]
    }
   ],
   "source": [
    "exams.info()"
   ]
  },
  {
   "cell_type": "code",
   "execution_count": 875,
   "id": "f60cb639",
   "metadata": {},
   "outputs": [
    {
     "data": {
      "text/plain": [
       "array(['group A', 'group D', 'group E', 'group B', 'group C'],\n",
       "      dtype=object)"
      ]
     },
     "execution_count": 875,
     "metadata": {},
     "output_type": "execute_result"
    }
   ],
   "source": [
    "exams['race/ethnicity'].unique()"
   ]
  },
  {
   "cell_type": "code",
   "execution_count": 876,
   "id": "107e1a20",
   "metadata": {},
   "outputs": [
    {
     "data": {
      "text/plain": [
       "array(['high school', 'some high school', 'some college',\n",
       "       \"associate's degree\", \"bachelor's degree\", \"master's degree\"],\n",
       "      dtype=object)"
      ]
     },
     "execution_count": 876,
     "metadata": {},
     "output_type": "execute_result"
    }
   ],
   "source": [
    "exams['parental level of education'].unique()"
   ]
  },
  {
   "cell_type": "code",
   "execution_count": 877,
   "id": "8d7b29d1",
   "metadata": {},
   "outputs": [
    {
     "data": {
      "text/plain": [
       "array(['standard', 'free/reduced'], dtype=object)"
      ]
     },
     "execution_count": 877,
     "metadata": {},
     "output_type": "execute_result"
    }
   ],
   "source": [
    "exams['lunch'].unique()"
   ]
  },
  {
   "cell_type": "code",
   "execution_count": 878,
   "id": "26ba9c3a",
   "metadata": {
    "scrolled": true
   },
   "outputs": [
    {
     "data": {
      "text/plain": [
       "array(['completed', 'none'], dtype=object)"
      ]
     },
     "execution_count": 878,
     "metadata": {},
     "output_type": "execute_result"
    }
   ],
   "source": [
    "exams['test preparation course'].unique()"
   ]
  },
  {
   "cell_type": "markdown",
   "id": "9530aec8",
   "metadata": {},
   "source": [
    "#### Переназовем колонки с английского языка на русский язык для удобства"
   ]
  },
  {
   "cell_type": "code",
   "execution_count": 879,
   "id": "34f0e31d",
   "metadata": {},
   "outputs": [],
   "source": [
    "exams.rename (columns = {'gender': 'Пол', \n",
    "                         'race/ethnicity': 'Раса/Этническая принадлежность',\n",
    "                         'parental level of education': 'Уровень образования родителей',\n",
    "                         'lunch': 'Обед',\n",
    "                         'test preparation course': 'Курс подготовки к тестам',\n",
    "                         'math score': 'Баллы по математике',\n",
    "                         'reading score': 'Баллы по чтению',\n",
    "                         'writing score': 'Баллы по письменности'}, inplace = True)"
   ]
  },
  {
   "cell_type": "code",
   "execution_count": 880,
   "id": "d7c984bc",
   "metadata": {},
   "outputs": [
    {
     "data": {
      "text/plain": [
       "Index(['Пол', 'Раса/Этническая принадлежность',\n",
       "       'Уровень образования родителей', 'Обед', 'Курс подготовки к тестам',\n",
       "       'Баллы по математике', 'Баллы по чтению', 'Баллы по письменности'],\n",
       "      dtype='object')"
      ]
     },
     "execution_count": 880,
     "metadata": {},
     "output_type": "execute_result"
    }
   ],
   "source": [
    "exams.columns"
   ]
  },
  {
   "cell_type": "code",
   "execution_count": 881,
   "id": "0140bcb1",
   "metadata": {
    "scrolled": true
   },
   "outputs": [
    {
     "data": {
      "text/html": [
       "<div>\n",
       "<style scoped>\n",
       "    .dataframe tbody tr th:only-of-type {\n",
       "        vertical-align: middle;\n",
       "    }\n",
       "\n",
       "    .dataframe tbody tr th {\n",
       "        vertical-align: top;\n",
       "    }\n",
       "\n",
       "    .dataframe thead th {\n",
       "        text-align: right;\n",
       "    }\n",
       "</style>\n",
       "<table border=\"1\" class=\"dataframe\">\n",
       "  <thead>\n",
       "    <tr style=\"text-align: right;\">\n",
       "      <th></th>\n",
       "      <th>Баллы по математике</th>\n",
       "      <th>Баллы по чтению</th>\n",
       "      <th>Баллы по письменности</th>\n",
       "    </tr>\n",
       "  </thead>\n",
       "  <tbody>\n",
       "    <tr>\n",
       "      <th>count</th>\n",
       "      <td>1000.000000</td>\n",
       "      <td>1000.000000</td>\n",
       "      <td>1000.000000</td>\n",
       "    </tr>\n",
       "    <tr>\n",
       "      <th>mean</th>\n",
       "      <td>66.396000</td>\n",
       "      <td>69.002000</td>\n",
       "      <td>67.738000</td>\n",
       "    </tr>\n",
       "    <tr>\n",
       "      <th>std</th>\n",
       "      <td>15.402871</td>\n",
       "      <td>14.737272</td>\n",
       "      <td>15.600985</td>\n",
       "    </tr>\n",
       "    <tr>\n",
       "      <th>min</th>\n",
       "      <td>13.000000</td>\n",
       "      <td>27.000000</td>\n",
       "      <td>23.000000</td>\n",
       "    </tr>\n",
       "    <tr>\n",
       "      <th>25%</th>\n",
       "      <td>56.000000</td>\n",
       "      <td>60.000000</td>\n",
       "      <td>58.000000</td>\n",
       "    </tr>\n",
       "    <tr>\n",
       "      <th>50%</th>\n",
       "      <td>66.500000</td>\n",
       "      <td>70.000000</td>\n",
       "      <td>68.000000</td>\n",
       "    </tr>\n",
       "    <tr>\n",
       "      <th>75%</th>\n",
       "      <td>77.000000</td>\n",
       "      <td>79.000000</td>\n",
       "      <td>79.000000</td>\n",
       "    </tr>\n",
       "    <tr>\n",
       "      <th>max</th>\n",
       "      <td>100.000000</td>\n",
       "      <td>100.000000</td>\n",
       "      <td>100.000000</td>\n",
       "    </tr>\n",
       "  </tbody>\n",
       "</table>\n",
       "</div>"
      ],
      "text/plain": [
       "       Баллы по математике  Баллы по чтению  Баллы по письменности\n",
       "count          1000.000000      1000.000000            1000.000000\n",
       "mean             66.396000        69.002000              67.738000\n",
       "std              15.402871        14.737272              15.600985\n",
       "min              13.000000        27.000000              23.000000\n",
       "25%              56.000000        60.000000              58.000000\n",
       "50%              66.500000        70.000000              68.000000\n",
       "75%              77.000000        79.000000              79.000000\n",
       "max             100.000000       100.000000             100.000000"
      ]
     },
     "execution_count": 881,
     "metadata": {},
     "output_type": "execute_result"
    }
   ],
   "source": [
    "exams.describe()"
   ]
  },
  {
   "cell_type": "markdown",
   "id": "e0586523",
   "metadata": {},
   "source": [
    "#### Всего 1000 учеников"
   ]
  },
  {
   "cell_type": "markdown",
   "id": "48f854bf",
   "metadata": {},
   "source": [
    "#### Максимальный полученный балл по всем предметам - 100. Средний балл по математике - 66, по чтению - 69, по письменности - 68. Минимальные баллы: 13 (математика), 27 (чтение), 23 (письменность)."
   ]
  },
  {
   "cell_type": "code",
   "execution_count": 882,
   "id": "bea750b0",
   "metadata": {},
   "outputs": [],
   "source": [
    "import matplotlib.pyplot as plt"
   ]
  },
  {
   "cell_type": "code",
   "execution_count": 883,
   "id": "672b3518",
   "metadata": {},
   "outputs": [
    {
     "data": {
      "text/plain": [
       "<AxesSubplot:title={'center':'Раса/Этническая принадлежность'}>"
      ]
     },
     "execution_count": 883,
     "metadata": {},
     "output_type": "execute_result"
    },
    {
     "data": {
      "image/png": "[encoded data removed]",
      "text/plain": [
       "<Figure size 432x288 with 1 Axes>"
      ]
     },
     "metadata": {},
     "output_type": "display_data"
    }
   ],
   "source": [
    "colors = ['#E7E59C', '#8574DB', '#E49CE7', '#CDEDA1', '#A1EDEB']\n",
    "exams.groupby('Раса/Этническая принадлежность').size().plot(kind = 'pie', ylabel = '', colors=colors, shadow = True, title = 'Раса/Этническая принадлежность', autopct = '%.1f', textprops = {'color': 'b'})"
   ]
  },
  {
   "cell_type": "markdown",
   "id": "28365591",
   "metadata": {},
   "source": [
    "#### Эта круговая диаграмма показывает, что в группе C больше всего людей (32,3 %). Меньше всего людей в группе A (7,9 %)."
   ]
  },
  {
   "cell_type": "code",
   "execution_count": 884,
   "id": "03c40ae1",
   "metadata": {},
   "outputs": [
    {
     "data": {
      "text/plain": [
       "<AxesSubplot:title={'center':'Уровень образования родителей'}>"
      ]
     },
     "execution_count": 884,
     "metadata": {},
     "output_type": "execute_result"
    },
    {
     "data": {
      "image/png": "[encoded data removed]",
      "text/plain": [
       "<Figure size 432x288 with 1 Axes>"
      ]
     },
     "metadata": {},
     "output_type": "display_data"
    }
   ],
   "source": [
    "colors = ['#E7E59C', '#8574DB', '#E49CE7', '#CDEDA1', '#A1EDEB', '#EDBBA1']\n",
    "exams.groupby('Уровень образования родителей').size().plot(kind = 'pie', ylabel = '', colors=colors, shadow = True, title = 'Уровень образования родителей', autopct = '%.1f', textprops = {'color': 'purple'})"
   ]
  },
  {
   "cell_type": "markdown",
   "id": "3ba2d6cf",
   "metadata": {},
   "source": [
    "#### Эта круговая диаграмма показывает, что больше всего родителей, учившихся в колледже. Меньше всего родителей, которые закончили магистратуру."
   ]
  },
  {
   "cell_type": "markdown",
   "id": "7b179d8b",
   "metadata": {},
   "source": [
    "#### Найдем студентов, которые лучше всего справились со всеми экзаменами"
   ]
  },
  {
   "cell_type": "code",
   "execution_count": 885,
   "id": "926dd1f1",
   "metadata": {
    "scrolled": true
   },
   "outputs": [
    {
     "data": {
      "text/html": [
       "<div>\n",
       "<style scoped>\n",
       "    .dataframe tbody tr th:only-of-type {\n",
       "        vertical-align: middle;\n",
       "    }\n",
       "\n",
       "    .dataframe tbody tr th {\n",
       "        vertical-align: top;\n",
       "    }\n",
       "\n",
       "    .dataframe thead th {\n",
       "        text-align: right;\n",
       "    }\n",
       "</style>\n",
       "<table border=\"1\" class=\"dataframe\">\n",
       "  <thead>\n",
       "    <tr style=\"text-align: right;\">\n",
       "      <th></th>\n",
       "      <th>Пол</th>\n",
       "      <th>Раса/Этническая принадлежность</th>\n",
       "      <th>Уровень образования родителей</th>\n",
       "      <th>Обед</th>\n",
       "      <th>Курс подготовки к тестам</th>\n",
       "      <th>Баллы по математике</th>\n",
       "      <th>Баллы по чтению</th>\n",
       "      <th>Баллы по письменности</th>\n",
       "    </tr>\n",
       "  </thead>\n",
       "  <tbody>\n",
       "    <tr>\n",
       "      <th>148</th>\n",
       "      <td>female</td>\n",
       "      <td>group E</td>\n",
       "      <td>bachelor's degree</td>\n",
       "      <td>standard</td>\n",
       "      <td>completed</td>\n",
       "      <td>100</td>\n",
       "      <td>100</td>\n",
       "      <td>100</td>\n",
       "    </tr>\n",
       "    <tr>\n",
       "      <th>281</th>\n",
       "      <td>male</td>\n",
       "      <td>group E</td>\n",
       "      <td>associate's degree</td>\n",
       "      <td>standard</td>\n",
       "      <td>completed</td>\n",
       "      <td>100</td>\n",
       "      <td>100</td>\n",
       "      <td>100</td>\n",
       "    </tr>\n",
       "    <tr>\n",
       "      <th>550</th>\n",
       "      <td>female</td>\n",
       "      <td>group E</td>\n",
       "      <td>some college</td>\n",
       "      <td>standard</td>\n",
       "      <td>completed</td>\n",
       "      <td>100</td>\n",
       "      <td>100</td>\n",
       "      <td>100</td>\n",
       "    </tr>\n",
       "    <tr>\n",
       "      <th>634</th>\n",
       "      <td>female</td>\n",
       "      <td>group D</td>\n",
       "      <td>master's degree</td>\n",
       "      <td>standard</td>\n",
       "      <td>completed</td>\n",
       "      <td>100</td>\n",
       "      <td>100</td>\n",
       "      <td>100</td>\n",
       "    </tr>\n",
       "    <tr>\n",
       "      <th>825</th>\n",
       "      <td>male</td>\n",
       "      <td>group E</td>\n",
       "      <td>associate's degree</td>\n",
       "      <td>standard</td>\n",
       "      <td>completed</td>\n",
       "      <td>100</td>\n",
       "      <td>100</td>\n",
       "      <td>100</td>\n",
       "    </tr>\n",
       "    <tr>\n",
       "      <th>...</th>\n",
       "      <td>...</td>\n",
       "      <td>...</td>\n",
       "      <td>...</td>\n",
       "      <td>...</td>\n",
       "      <td>...</td>\n",
       "      <td>...</td>\n",
       "      <td>...</td>\n",
       "      <td>...</td>\n",
       "    </tr>\n",
       "    <tr>\n",
       "      <th>496</th>\n",
       "      <td>female</td>\n",
       "      <td>group B</td>\n",
       "      <td>some high school</td>\n",
       "      <td>free/reduced</td>\n",
       "      <td>none</td>\n",
       "      <td>26</td>\n",
       "      <td>34</td>\n",
       "      <td>28</td>\n",
       "    </tr>\n",
       "    <tr>\n",
       "      <th>729</th>\n",
       "      <td>female</td>\n",
       "      <td>group B</td>\n",
       "      <td>some high school</td>\n",
       "      <td>free/reduced</td>\n",
       "      <td>none</td>\n",
       "      <td>25</td>\n",
       "      <td>36</td>\n",
       "      <td>37</td>\n",
       "    </tr>\n",
       "    <tr>\n",
       "      <th>18</th>\n",
       "      <td>female</td>\n",
       "      <td>group C</td>\n",
       "      <td>associate's degree</td>\n",
       "      <td>free/reduced</td>\n",
       "      <td>none</td>\n",
       "      <td>23</td>\n",
       "      <td>44</td>\n",
       "      <td>44</td>\n",
       "    </tr>\n",
       "    <tr>\n",
       "      <th>832</th>\n",
       "      <td>female</td>\n",
       "      <td>group D</td>\n",
       "      <td>some college</td>\n",
       "      <td>free/reduced</td>\n",
       "      <td>none</td>\n",
       "      <td>13</td>\n",
       "      <td>36</td>\n",
       "      <td>37</td>\n",
       "    </tr>\n",
       "    <tr>\n",
       "      <th>392</th>\n",
       "      <td>female</td>\n",
       "      <td>group C</td>\n",
       "      <td>some college</td>\n",
       "      <td>free/reduced</td>\n",
       "      <td>none</td>\n",
       "      <td>13</td>\n",
       "      <td>29</td>\n",
       "      <td>23</td>\n",
       "    </tr>\n",
       "  </tbody>\n",
       "</table>\n",
       "<p>1000 rows × 8 columns</p>\n",
       "</div>"
      ],
      "text/plain": [
       "        Пол Раса/Этническая принадлежность Уровень образования родителей  \\\n",
       "148  female                        group E             bachelor's degree   \n",
       "281    male                        group E            associate's degree   \n",
       "550  female                        group E                  some college   \n",
       "634  female                        group D               master's degree   \n",
       "825    male                        group E            associate's degree   \n",
       "..      ...                            ...                           ...   \n",
       "496  female                        group B              some high school   \n",
       "729  female                        group B              some high school   \n",
       "18   female                        group C            associate's degree   \n",
       "832  female                        group D                  some college   \n",
       "392  female                        group C                  some college   \n",
       "\n",
       "             Обед Курс подготовки к тестам  Баллы по математике  \\\n",
       "148      standard                completed                  100   \n",
       "281      standard                completed                  100   \n",
       "550      standard                completed                  100   \n",
       "634      standard                completed                  100   \n",
       "825      standard                completed                  100   \n",
       "..            ...                      ...                  ...   \n",
       "496  free/reduced                     none                   26   \n",
       "729  free/reduced                     none                   25   \n",
       "18   free/reduced                     none                   23   \n",
       "832  free/reduced                     none                   13   \n",
       "392  free/reduced                     none                   13   \n",
       "\n",
       "     Баллы по чтению  Баллы по письменности  \n",
       "148              100                    100  \n",
       "281              100                    100  \n",
       "550              100                    100  \n",
       "634              100                    100  \n",
       "825              100                    100  \n",
       "..               ...                    ...  \n",
       "496               34                     28  \n",
       "729               36                     37  \n",
       "18                44                     44  \n",
       "832               36                     37  \n",
       "392               29                     23  \n",
       "\n",
       "[1000 rows x 8 columns]"
      ]
     },
     "execution_count": 885,
     "metadata": {},
     "output_type": "execute_result"
    }
   ],
   "source": [
    "exams.sort_values(by=['Баллы по математике', 'Баллы по чтению', 'Баллы по письменности'], ascending = [False, False, False])"
   ]
  },
  {
   "cell_type": "code",
   "execution_count": 886,
   "id": "d82c51fd",
   "metadata": {
    "scrolled": true
   },
   "outputs": [
    {
     "data": {
      "text/html": [
       "<div>\n",
       "<style scoped>\n",
       "    .dataframe tbody tr th:only-of-type {\n",
       "        vertical-align: middle;\n",
       "    }\n",
       "\n",
       "    .dataframe tbody tr th {\n",
       "        vertical-align: top;\n",
       "    }\n",
       "\n",
       "    .dataframe thead th {\n",
       "        text-align: right;\n",
       "    }\n",
       "</style>\n",
       "<table border=\"1\" class=\"dataframe\">\n",
       "  <thead>\n",
       "    <tr style=\"text-align: right;\">\n",
       "      <th></th>\n",
       "      <th>Пол</th>\n",
       "      <th>Раса/Этническая принадлежность</th>\n",
       "      <th>Уровень образования родителей</th>\n",
       "      <th>Обед</th>\n",
       "      <th>Курс подготовки к тестам</th>\n",
       "      <th>Баллы по математике</th>\n",
       "      <th>Баллы по чтению</th>\n",
       "      <th>Баллы по письменности</th>\n",
       "    </tr>\n",
       "  </thead>\n",
       "  <tbody>\n",
       "    <tr>\n",
       "      <th>148</th>\n",
       "      <td>female</td>\n",
       "      <td>group E</td>\n",
       "      <td>bachelor's degree</td>\n",
       "      <td>standard</td>\n",
       "      <td>completed</td>\n",
       "      <td>100</td>\n",
       "      <td>100</td>\n",
       "      <td>100</td>\n",
       "    </tr>\n",
       "    <tr>\n",
       "      <th>281</th>\n",
       "      <td>male</td>\n",
       "      <td>group E</td>\n",
       "      <td>associate's degree</td>\n",
       "      <td>standard</td>\n",
       "      <td>completed</td>\n",
       "      <td>100</td>\n",
       "      <td>100</td>\n",
       "      <td>100</td>\n",
       "    </tr>\n",
       "    <tr>\n",
       "      <th>550</th>\n",
       "      <td>female</td>\n",
       "      <td>group E</td>\n",
       "      <td>some college</td>\n",
       "      <td>standard</td>\n",
       "      <td>completed</td>\n",
       "      <td>100</td>\n",
       "      <td>100</td>\n",
       "      <td>100</td>\n",
       "    </tr>\n",
       "    <tr>\n",
       "      <th>634</th>\n",
       "      <td>female</td>\n",
       "      <td>group D</td>\n",
       "      <td>master's degree</td>\n",
       "      <td>standard</td>\n",
       "      <td>completed</td>\n",
       "      <td>100</td>\n",
       "      <td>100</td>\n",
       "      <td>100</td>\n",
       "    </tr>\n",
       "    <tr>\n",
       "      <th>825</th>\n",
       "      <td>male</td>\n",
       "      <td>group E</td>\n",
       "      <td>associate's degree</td>\n",
       "      <td>standard</td>\n",
       "      <td>completed</td>\n",
       "      <td>100</td>\n",
       "      <td>100</td>\n",
       "      <td>100</td>\n",
       "    </tr>\n",
       "  </tbody>\n",
       "</table>\n",
       "</div>"
      ],
      "text/plain": [
       "        Пол Раса/Этническая принадлежность Уровень образования родителей  \\\n",
       "148  female                        group E             bachelor's degree   \n",
       "281    male                        group E            associate's degree   \n",
       "550  female                        group E                  some college   \n",
       "634  female                        group D               master's degree   \n",
       "825    male                        group E            associate's degree   \n",
       "\n",
       "         Обед Курс подготовки к тестам  Баллы по математике  Баллы по чтению  \\\n",
       "148  standard                completed                  100              100   \n",
       "281  standard                completed                  100              100   \n",
       "550  standard                completed                  100              100   \n",
       "634  standard                completed                  100              100   \n",
       "825  standard                completed                  100              100   \n",
       "\n",
       "     Баллы по письменности  \n",
       "148                    100  \n",
       "281                    100  \n",
       "550                    100  \n",
       "634                    100  \n",
       "825                    100  "
      ]
     },
     "execution_count": 886,
     "metadata": {},
     "output_type": "execute_result"
    }
   ],
   "source": [
    "exams[(exams['Баллы по математике'] == 100) & (exams['Баллы по чтению'] == 100) & (exams['Баллы по письменности'] == 100)]"
   ]
  },
  {
   "cell_type": "markdown",
   "id": "856b6cbd",
   "metadata": {},
   "source": [
    "#### Всего 5 учеников сдали все 3 экзамена на максимальный балл. Среди этих учеников больше девушек (3 против 2). 4 из 5 учеников принадлежат к расе/этнической группе E. Все ученики получали стандартный обед и проходили курс подготовки к тестам. "
   ]
  },
  {
   "cell_type": "markdown",
   "id": "bc53c3d2",
   "metadata": {},
   "source": [
    "#### Создаем новую переменную с суммой всех баллов за 3 предмета"
   ]
  },
  {
   "cell_type": "code",
   "execution_count": 887,
   "id": "8cd470dd",
   "metadata": {},
   "outputs": [],
   "source": [
    "exams['Итоговые баллы'] = exams['Баллы по математике'] + exams['Баллы по чтению'] + exams['Баллы по письменности']"
   ]
  },
  {
   "cell_type": "code",
   "execution_count": 888,
   "id": "e628959d",
   "metadata": {},
   "outputs": [
    {
     "data": {
      "text/html": [
       "<div>\n",
       "<style scoped>\n",
       "    .dataframe tbody tr th:only-of-type {\n",
       "        vertical-align: middle;\n",
       "    }\n",
       "\n",
       "    .dataframe tbody tr th {\n",
       "        vertical-align: top;\n",
       "    }\n",
       "\n",
       "    .dataframe thead th {\n",
       "        text-align: right;\n",
       "    }\n",
       "</style>\n",
       "<table border=\"1\" class=\"dataframe\">\n",
       "  <thead>\n",
       "    <tr style=\"text-align: right;\">\n",
       "      <th></th>\n",
       "      <th>Пол</th>\n",
       "      <th>Раса/Этническая принадлежность</th>\n",
       "      <th>Уровень образования родителей</th>\n",
       "      <th>Обед</th>\n",
       "      <th>Курс подготовки к тестам</th>\n",
       "      <th>Баллы по математике</th>\n",
       "      <th>Баллы по чтению</th>\n",
       "      <th>Баллы по письменности</th>\n",
       "      <th>Итоговые баллы</th>\n",
       "    </tr>\n",
       "  </thead>\n",
       "  <tbody>\n",
       "    <tr>\n",
       "      <th>0</th>\n",
       "      <td>male</td>\n",
       "      <td>group A</td>\n",
       "      <td>high school</td>\n",
       "      <td>standard</td>\n",
       "      <td>completed</td>\n",
       "      <td>67</td>\n",
       "      <td>67</td>\n",
       "      <td>63</td>\n",
       "      <td>197</td>\n",
       "    </tr>\n",
       "    <tr>\n",
       "      <th>1</th>\n",
       "      <td>female</td>\n",
       "      <td>group D</td>\n",
       "      <td>some high school</td>\n",
       "      <td>free/reduced</td>\n",
       "      <td>none</td>\n",
       "      <td>40</td>\n",
       "      <td>59</td>\n",
       "      <td>55</td>\n",
       "      <td>154</td>\n",
       "    </tr>\n",
       "    <tr>\n",
       "      <th>2</th>\n",
       "      <td>male</td>\n",
       "      <td>group E</td>\n",
       "      <td>some college</td>\n",
       "      <td>free/reduced</td>\n",
       "      <td>none</td>\n",
       "      <td>59</td>\n",
       "      <td>60</td>\n",
       "      <td>50</td>\n",
       "      <td>169</td>\n",
       "    </tr>\n",
       "    <tr>\n",
       "      <th>3</th>\n",
       "      <td>male</td>\n",
       "      <td>group B</td>\n",
       "      <td>high school</td>\n",
       "      <td>standard</td>\n",
       "      <td>none</td>\n",
       "      <td>77</td>\n",
       "      <td>78</td>\n",
       "      <td>68</td>\n",
       "      <td>223</td>\n",
       "    </tr>\n",
       "    <tr>\n",
       "      <th>4</th>\n",
       "      <td>male</td>\n",
       "      <td>group E</td>\n",
       "      <td>associate's degree</td>\n",
       "      <td>standard</td>\n",
       "      <td>completed</td>\n",
       "      <td>78</td>\n",
       "      <td>73</td>\n",
       "      <td>68</td>\n",
       "      <td>219</td>\n",
       "    </tr>\n",
       "  </tbody>\n",
       "</table>\n",
       "</div>"
      ],
      "text/plain": [
       "      Пол Раса/Этническая принадлежность Уровень образования родителей  \\\n",
       "0    male                        group A                   high school   \n",
       "1  female                        group D              some high school   \n",
       "2    male                        group E                  some college   \n",
       "3    male                        group B                   high school   \n",
       "4    male                        group E            associate's degree   \n",
       "\n",
       "           Обед Курс подготовки к тестам  Баллы по математике  \\\n",
       "0      standard                completed                   67   \n",
       "1  free/reduced                     none                   40   \n",
       "2  free/reduced                     none                   59   \n",
       "3      standard                     none                   77   \n",
       "4      standard                completed                   78   \n",
       "\n",
       "   Баллы по чтению  Баллы по письменности  Итоговые баллы  \n",
       "0               67                     63             197  \n",
       "1               59                     55             154  \n",
       "2               60                     50             169  \n",
       "3               78                     68             223  \n",
       "4               73                     68             219  "
      ]
     },
     "execution_count": 888,
     "metadata": {},
     "output_type": "execute_result"
    }
   ],
   "source": [
    "exams.head()"
   ]
  },
  {
   "cell_type": "markdown",
   "id": "8d8c192a",
   "metadata": {},
   "source": [
    "#### Перекодируем столбцы Обед и Курс по подготовке к тестам в бинарные"
   ]
  },
  {
   "cell_type": "code",
   "execution_count": 889,
   "id": "0aa61ff0",
   "metadata": {},
   "outputs": [
    {
     "data": {
      "text/plain": [
       "652"
      ]
     },
     "execution_count": 889,
     "metadata": {},
     "output_type": "execute_result"
    }
   ],
   "source": [
    "exams['Обед'].apply(lambda x: 1 if x == 'standard' else 0 ).sum()"
   ]
  },
  {
   "cell_type": "code",
   "execution_count": 890,
   "id": "2d07e0cf",
   "metadata": {},
   "outputs": [
    {
     "data": {
      "text/plain": [
       "(652, 9)"
      ]
     },
     "execution_count": 890,
     "metadata": {},
     "output_type": "execute_result"
    }
   ],
   "source": [
    "exams[exams['Обед'] == 'standard'].shape"
   ]
  },
  {
   "cell_type": "code",
   "execution_count": 891,
   "id": "cd10f7bf",
   "metadata": {},
   "outputs": [],
   "source": [
    "exams['Обед'] = exams['Обед'].apply(lambda x: 1 if x == 'standard' else 0 )"
   ]
  },
  {
   "cell_type": "code",
   "execution_count": 892,
   "id": "1544c2f8",
   "metadata": {},
   "outputs": [
    {
     "data": {
      "text/html": [
       "<div>\n",
       "<style scoped>\n",
       "    .dataframe tbody tr th:only-of-type {\n",
       "        vertical-align: middle;\n",
       "    }\n",
       "\n",
       "    .dataframe tbody tr th {\n",
       "        vertical-align: top;\n",
       "    }\n",
       "\n",
       "    .dataframe thead th {\n",
       "        text-align: right;\n",
       "    }\n",
       "</style>\n",
       "<table border=\"1\" class=\"dataframe\">\n",
       "  <thead>\n",
       "    <tr style=\"text-align: right;\">\n",
       "      <th></th>\n",
       "      <th>Пол</th>\n",
       "      <th>Раса/Этническая принадлежность</th>\n",
       "      <th>Уровень образования родителей</th>\n",
       "      <th>Обед</th>\n",
       "      <th>Курс подготовки к тестам</th>\n",
       "      <th>Баллы по математике</th>\n",
       "      <th>Баллы по чтению</th>\n",
       "      <th>Баллы по письменности</th>\n",
       "      <th>Итоговые баллы</th>\n",
       "    </tr>\n",
       "  </thead>\n",
       "  <tbody>\n",
       "    <tr>\n",
       "      <th>0</th>\n",
       "      <td>male</td>\n",
       "      <td>group A</td>\n",
       "      <td>high school</td>\n",
       "      <td>1</td>\n",
       "      <td>completed</td>\n",
       "      <td>67</td>\n",
       "      <td>67</td>\n",
       "      <td>63</td>\n",
       "      <td>197</td>\n",
       "    </tr>\n",
       "    <tr>\n",
       "      <th>1</th>\n",
       "      <td>female</td>\n",
       "      <td>group D</td>\n",
       "      <td>some high school</td>\n",
       "      <td>0</td>\n",
       "      <td>none</td>\n",
       "      <td>40</td>\n",
       "      <td>59</td>\n",
       "      <td>55</td>\n",
       "      <td>154</td>\n",
       "    </tr>\n",
       "    <tr>\n",
       "      <th>2</th>\n",
       "      <td>male</td>\n",
       "      <td>group E</td>\n",
       "      <td>some college</td>\n",
       "      <td>0</td>\n",
       "      <td>none</td>\n",
       "      <td>59</td>\n",
       "      <td>60</td>\n",
       "      <td>50</td>\n",
       "      <td>169</td>\n",
       "    </tr>\n",
       "    <tr>\n",
       "      <th>3</th>\n",
       "      <td>male</td>\n",
       "      <td>group B</td>\n",
       "      <td>high school</td>\n",
       "      <td>1</td>\n",
       "      <td>none</td>\n",
       "      <td>77</td>\n",
       "      <td>78</td>\n",
       "      <td>68</td>\n",
       "      <td>223</td>\n",
       "    </tr>\n",
       "    <tr>\n",
       "      <th>4</th>\n",
       "      <td>male</td>\n",
       "      <td>group E</td>\n",
       "      <td>associate's degree</td>\n",
       "      <td>1</td>\n",
       "      <td>completed</td>\n",
       "      <td>78</td>\n",
       "      <td>73</td>\n",
       "      <td>68</td>\n",
       "      <td>219</td>\n",
       "    </tr>\n",
       "  </tbody>\n",
       "</table>\n",
       "</div>"
      ],
      "text/plain": [
       "      Пол Раса/Этническая принадлежность Уровень образования родителей  Обед  \\\n",
       "0    male                        group A                   high school     1   \n",
       "1  female                        group D              some high school     0   \n",
       "2    male                        group E                  some college     0   \n",
       "3    male                        group B                   high school     1   \n",
       "4    male                        group E            associate's degree     1   \n",
       "\n",
       "  Курс подготовки к тестам  Баллы по математике  Баллы по чтению  \\\n",
       "0                completed                   67               67   \n",
       "1                     none                   40               59   \n",
       "2                     none                   59               60   \n",
       "3                     none                   77               78   \n",
       "4                completed                   78               73   \n",
       "\n",
       "   Баллы по письменности  Итоговые баллы  \n",
       "0                     63             197  \n",
       "1                     55             154  \n",
       "2                     50             169  \n",
       "3                     68             223  \n",
       "4                     68             219  "
      ]
     },
     "execution_count": 892,
     "metadata": {},
     "output_type": "execute_result"
    }
   ],
   "source": [
    "exams.head()"
   ]
  },
  {
   "cell_type": "code",
   "execution_count": 893,
   "id": "0ddd12df",
   "metadata": {},
   "outputs": [
    {
     "data": {
      "text/plain": [
       "335"
      ]
     },
     "execution_count": 893,
     "metadata": {},
     "output_type": "execute_result"
    }
   ],
   "source": [
    "exams['Курс подготовки к тестам'].apply(lambda x: 1 if x == 'completed' else 0 ).sum()"
   ]
  },
  {
   "cell_type": "code",
   "execution_count": 894,
   "id": "010b69fd",
   "metadata": {},
   "outputs": [
    {
     "data": {
      "text/plain": [
       "(335, 9)"
      ]
     },
     "execution_count": 894,
     "metadata": {},
     "output_type": "execute_result"
    }
   ],
   "source": [
    "exams[exams['Курс подготовки к тестам'] == 'completed'].shape"
   ]
  },
  {
   "cell_type": "code",
   "execution_count": 895,
   "id": "f6b1da93",
   "metadata": {},
   "outputs": [],
   "source": [
    "exams['Курс подготовки к тестам'] = exams['Курс подготовки к тестам'].apply(lambda x: 1 if x == 'completed' else 0 )"
   ]
  },
  {
   "cell_type": "code",
   "execution_count": 896,
   "id": "9ff07c99",
   "metadata": {},
   "outputs": [
    {
     "data": {
      "text/html": [
       "<div>\n",
       "<style scoped>\n",
       "    .dataframe tbody tr th:only-of-type {\n",
       "        vertical-align: middle;\n",
       "    }\n",
       "\n",
       "    .dataframe tbody tr th {\n",
       "        vertical-align: top;\n",
       "    }\n",
       "\n",
       "    .dataframe thead th {\n",
       "        text-align: right;\n",
       "    }\n",
       "</style>\n",
       "<table border=\"1\" class=\"dataframe\">\n",
       "  <thead>\n",
       "    <tr style=\"text-align: right;\">\n",
       "      <th></th>\n",
       "      <th>Пол</th>\n",
       "      <th>Раса/Этническая принадлежность</th>\n",
       "      <th>Уровень образования родителей</th>\n",
       "      <th>Обед</th>\n",
       "      <th>Курс подготовки к тестам</th>\n",
       "      <th>Баллы по математике</th>\n",
       "      <th>Баллы по чтению</th>\n",
       "      <th>Баллы по письменности</th>\n",
       "      <th>Итоговые баллы</th>\n",
       "    </tr>\n",
       "  </thead>\n",
       "  <tbody>\n",
       "    <tr>\n",
       "      <th>0</th>\n",
       "      <td>male</td>\n",
       "      <td>group A</td>\n",
       "      <td>high school</td>\n",
       "      <td>1</td>\n",
       "      <td>1</td>\n",
       "      <td>67</td>\n",
       "      <td>67</td>\n",
       "      <td>63</td>\n",
       "      <td>197</td>\n",
       "    </tr>\n",
       "    <tr>\n",
       "      <th>1</th>\n",
       "      <td>female</td>\n",
       "      <td>group D</td>\n",
       "      <td>some high school</td>\n",
       "      <td>0</td>\n",
       "      <td>0</td>\n",
       "      <td>40</td>\n",
       "      <td>59</td>\n",
       "      <td>55</td>\n",
       "      <td>154</td>\n",
       "    </tr>\n",
       "    <tr>\n",
       "      <th>2</th>\n",
       "      <td>male</td>\n",
       "      <td>group E</td>\n",
       "      <td>some college</td>\n",
       "      <td>0</td>\n",
       "      <td>0</td>\n",
       "      <td>59</td>\n",
       "      <td>60</td>\n",
       "      <td>50</td>\n",
       "      <td>169</td>\n",
       "    </tr>\n",
       "    <tr>\n",
       "      <th>3</th>\n",
       "      <td>male</td>\n",
       "      <td>group B</td>\n",
       "      <td>high school</td>\n",
       "      <td>1</td>\n",
       "      <td>0</td>\n",
       "      <td>77</td>\n",
       "      <td>78</td>\n",
       "      <td>68</td>\n",
       "      <td>223</td>\n",
       "    </tr>\n",
       "    <tr>\n",
       "      <th>4</th>\n",
       "      <td>male</td>\n",
       "      <td>group E</td>\n",
       "      <td>associate's degree</td>\n",
       "      <td>1</td>\n",
       "      <td>1</td>\n",
       "      <td>78</td>\n",
       "      <td>73</td>\n",
       "      <td>68</td>\n",
       "      <td>219</td>\n",
       "    </tr>\n",
       "  </tbody>\n",
       "</table>\n",
       "</div>"
      ],
      "text/plain": [
       "      Пол Раса/Этническая принадлежность Уровень образования родителей  Обед  \\\n",
       "0    male                        group A                   high school     1   \n",
       "1  female                        group D              some high school     0   \n",
       "2    male                        group E                  some college     0   \n",
       "3    male                        group B                   high school     1   \n",
       "4    male                        group E            associate's degree     1   \n",
       "\n",
       "   Курс подготовки к тестам  Баллы по математике  Баллы по чтению  \\\n",
       "0                         1                   67               67   \n",
       "1                         0                   40               59   \n",
       "2                         0                   59               60   \n",
       "3                         0                   77               78   \n",
       "4                         1                   78               73   \n",
       "\n",
       "   Баллы по письменности  Итоговые баллы  \n",
       "0                     63             197  \n",
       "1                     55             154  \n",
       "2                     50             169  \n",
       "3                     68             223  \n",
       "4                     68             219  "
      ]
     },
     "execution_count": 896,
     "metadata": {},
     "output_type": "execute_result"
    }
   ],
   "source": [
    "exams.head()"
   ]
  },
  {
   "cell_type": "markdown",
   "id": "e48119ff",
   "metadata": {},
   "source": [
    "#### Создаем переменную на основе нескольких колонок (Хорошая подготовка: оценка \"хорошо\" или \"отлично\" по всем предметам)  "
   ]
  },
  {
   "cell_type": "code",
   "execution_count": 897,
   "id": "1faa504c",
   "metadata": {},
   "outputs": [],
   "source": [
    "exams['Хорошая подготовка']= np.where((exams['Баллы по математике'] >= 59) &\n",
    "         (exams['Баллы по чтению'] >= 59) &\n",
    "         (exams['Баллы по письменности'] >= 59), 1, 0)"
   ]
  },
  {
   "cell_type": "code",
   "execution_count": 898,
   "id": "027c7fc3",
   "metadata": {},
   "outputs": [
    {
     "data": {
      "text/html": [
       "<div>\n",
       "<style scoped>\n",
       "    .dataframe tbody tr th:only-of-type {\n",
       "        vertical-align: middle;\n",
       "    }\n",
       "\n",
       "    .dataframe tbody tr th {\n",
       "        vertical-align: top;\n",
       "    }\n",
       "\n",
       "    .dataframe thead th {\n",
       "        text-align: right;\n",
       "    }\n",
       "</style>\n",
       "<table border=\"1\" class=\"dataframe\">\n",
       "  <thead>\n",
       "    <tr style=\"text-align: right;\">\n",
       "      <th></th>\n",
       "      <th>Пол</th>\n",
       "      <th>Раса/Этническая принадлежность</th>\n",
       "      <th>Уровень образования родителей</th>\n",
       "      <th>Обед</th>\n",
       "      <th>Курс подготовки к тестам</th>\n",
       "      <th>Баллы по математике</th>\n",
       "      <th>Баллы по чтению</th>\n",
       "      <th>Баллы по письменности</th>\n",
       "      <th>Итоговые баллы</th>\n",
       "      <th>Хорошая подготовка</th>\n",
       "    </tr>\n",
       "  </thead>\n",
       "  <tbody>\n",
       "    <tr>\n",
       "      <th>0</th>\n",
       "      <td>male</td>\n",
       "      <td>group A</td>\n",
       "      <td>high school</td>\n",
       "      <td>1</td>\n",
       "      <td>1</td>\n",
       "      <td>67</td>\n",
       "      <td>67</td>\n",
       "      <td>63</td>\n",
       "      <td>197</td>\n",
       "      <td>1</td>\n",
       "    </tr>\n",
       "    <tr>\n",
       "      <th>1</th>\n",
       "      <td>female</td>\n",
       "      <td>group D</td>\n",
       "      <td>some high school</td>\n",
       "      <td>0</td>\n",
       "      <td>0</td>\n",
       "      <td>40</td>\n",
       "      <td>59</td>\n",
       "      <td>55</td>\n",
       "      <td>154</td>\n",
       "      <td>0</td>\n",
       "    </tr>\n",
       "    <tr>\n",
       "      <th>2</th>\n",
       "      <td>male</td>\n",
       "      <td>group E</td>\n",
       "      <td>some college</td>\n",
       "      <td>0</td>\n",
       "      <td>0</td>\n",
       "      <td>59</td>\n",
       "      <td>60</td>\n",
       "      <td>50</td>\n",
       "      <td>169</td>\n",
       "      <td>0</td>\n",
       "    </tr>\n",
       "    <tr>\n",
       "      <th>3</th>\n",
       "      <td>male</td>\n",
       "      <td>group B</td>\n",
       "      <td>high school</td>\n",
       "      <td>1</td>\n",
       "      <td>0</td>\n",
       "      <td>77</td>\n",
       "      <td>78</td>\n",
       "      <td>68</td>\n",
       "      <td>223</td>\n",
       "      <td>1</td>\n",
       "    </tr>\n",
       "    <tr>\n",
       "      <th>4</th>\n",
       "      <td>male</td>\n",
       "      <td>group E</td>\n",
       "      <td>associate's degree</td>\n",
       "      <td>1</td>\n",
       "      <td>1</td>\n",
       "      <td>78</td>\n",
       "      <td>73</td>\n",
       "      <td>68</td>\n",
       "      <td>219</td>\n",
       "      <td>1</td>\n",
       "    </tr>\n",
       "  </tbody>\n",
       "</table>\n",
       "</div>"
      ],
      "text/plain": [
       "      Пол Раса/Этническая принадлежность Уровень образования родителей  Обед  \\\n",
       "0    male                        group A                   high school     1   \n",
       "1  female                        group D              some high school     0   \n",
       "2    male                        group E                  some college     0   \n",
       "3    male                        group B                   high school     1   \n",
       "4    male                        group E            associate's degree     1   \n",
       "\n",
       "   Курс подготовки к тестам  Баллы по математике  Баллы по чтению  \\\n",
       "0                         1                   67               67   \n",
       "1                         0                   40               59   \n",
       "2                         0                   59               60   \n",
       "3                         0                   77               78   \n",
       "4                         1                   78               73   \n",
       "\n",
       "   Баллы по письменности  Итоговые баллы  Хорошая подготовка  \n",
       "0                     63             197                   1  \n",
       "1                     55             154                   0  \n",
       "2                     50             169                   0  \n",
       "3                     68             223                   1  \n",
       "4                     68             219                   1  "
      ]
     },
     "execution_count": 898,
     "metadata": {},
     "output_type": "execute_result"
    }
   ],
   "source": [
    "exams.head()"
   ]
  },
  {
   "cell_type": "code",
   "execution_count": 899,
   "id": "8e9728cb",
   "metadata": {},
   "outputs": [
    {
     "data": {
      "text/plain": [
       "612"
      ]
     },
     "execution_count": 899,
     "metadata": {},
     "output_type": "execute_result"
    }
   ],
   "source": [
    "exams['Хорошая подготовка'].sum()"
   ]
  },
  {
   "cell_type": "markdown",
   "id": "02f40aec",
   "metadata": {},
   "source": [
    "## Вывод 1: 612 учеников сдали все три экзамена на оценку \"хорошо\" и/или \"отлично\""
   ]
  },
  {
   "cell_type": "code",
   "execution_count": 900,
   "id": "4cd26b84",
   "metadata": {},
   "outputs": [
    {
     "data": {
      "text/plain": [
       "Пол\n",
       "female     99881\n",
       "male      103255\n",
       "Name: Итоговые баллы, dtype: int64"
      ]
     },
     "execution_count": 900,
     "metadata": {},
     "output_type": "execute_result"
    }
   ],
   "source": [
    "exams.groupby('Пол')['Итоговые баллы'].sum()"
   ]
  },
  {
   "cell_type": "code",
   "execution_count": 901,
   "id": "4365552b",
   "metadata": {},
   "outputs": [
    {
     "data": {
      "text/plain": [
       "Пол     Хорошая подготовка\n",
       "female  1                     285\n",
       "        0                     198\n",
       "male    1                     327\n",
       "        0                     190\n",
       "Name: Хорошая подготовка, dtype: int64"
      ]
     },
     "execution_count": 901,
     "metadata": {},
     "output_type": "execute_result"
    }
   ],
   "source": [
    "exams.groupby('Пол')['Хорошая подготовка'].value_counts()"
   ]
  },
  {
   "cell_type": "code",
   "execution_count": 902,
   "id": "54548d1a",
   "metadata": {},
   "outputs": [
    {
     "data": {
      "text/plain": [
       "male      517\n",
       "female    483\n",
       "Name: Пол, dtype: int64"
      ]
     },
     "execution_count": 902,
     "metadata": {},
     "output_type": "execute_result"
    }
   ],
   "source": [
    "exams['Пол'].value_counts()"
   ]
  },
  {
   "cell_type": "code",
   "execution_count": 903,
   "id": "99d51069",
   "metadata": {},
   "outputs": [
    {
     "data": {
      "text/plain": [
       "59.006211180124225"
      ]
     },
     "execution_count": 903,
     "metadata": {},
     "output_type": "execute_result"
    }
   ],
   "source": [
    "285/483*100"
   ]
  },
  {
   "cell_type": "code",
   "execution_count": 904,
   "id": "eb33240f",
   "metadata": {},
   "outputs": [
    {
     "data": {
      "text/plain": [
       "63.2495164410058"
      ]
     },
     "execution_count": 904,
     "metadata": {},
     "output_type": "execute_result"
    }
   ],
   "source": [
    "327/517*100"
   ]
  },
  {
   "cell_type": "markdown",
   "id": "90dc76cd",
   "metadata": {},
   "source": [
    "##  Вывод 2: мужчины написали экзамены лучше, чем девушки:"
   ]
  },
  {
   "cell_type": "markdown",
   "id": "abe015f3",
   "metadata": {},
   "source": [
    "#### Во-первых, суммарное количество баллов у мужчин больше, чем у девушек (103255 против 99881). Во-вторых, 63,25% мужчин написали все три экзамена на оценку \"хорошо\" и/или \"отлично\", а среди девушек  хорошо подготовились к экзаменам только 59,01%."
   ]
  },
  {
   "cell_type": "code",
   "execution_count": 905,
   "id": "e2c02b6d",
   "metadata": {},
   "outputs": [
    {
     "data": {
      "text/html": [
       "<div>\n",
       "<style scoped>\n",
       "    .dataframe tbody tr th:only-of-type {\n",
       "        vertical-align: middle;\n",
       "    }\n",
       "\n",
       "    .dataframe tbody tr th {\n",
       "        vertical-align: top;\n",
       "    }\n",
       "\n",
       "    .dataframe thead th {\n",
       "        text-align: right;\n",
       "    }\n",
       "</style>\n",
       "<table border=\"1\" class=\"dataframe\">\n",
       "  <thead>\n",
       "    <tr style=\"text-align: right;\">\n",
       "      <th>Хорошая подготовка</th>\n",
       "      <th>0</th>\n",
       "      <th>1</th>\n",
       "    </tr>\n",
       "    <tr>\n",
       "      <th>Пол</th>\n",
       "      <th></th>\n",
       "      <th></th>\n",
       "    </tr>\n",
       "  </thead>\n",
       "  <tbody>\n",
       "    <tr>\n",
       "      <th>female</th>\n",
       "      <td>198</td>\n",
       "      <td>285</td>\n",
       "    </tr>\n",
       "    <tr>\n",
       "      <th>male</th>\n",
       "      <td>190</td>\n",
       "      <td>327</td>\n",
       "    </tr>\n",
       "  </tbody>\n",
       "</table>\n",
       "</div>"
      ],
      "text/plain": [
       "Хорошая подготовка    0    1\n",
       "Пол                         \n",
       "female              198  285\n",
       "male                190  327"
      ]
     },
     "execution_count": 905,
     "metadata": {},
     "output_type": "execute_result"
    }
   ],
   "source": [
    "exams.groupby('Пол')['Хорошая подготовка'].value_counts().unstack()"
   ]
  },
  {
   "cell_type": "code",
   "execution_count": 906,
   "id": "09d2e8e5",
   "metadata": {},
   "outputs": [
    {
     "data": {
      "text/plain": [
       "<AxesSubplot:title={'center':'Хорошая подготовка по полу учеников'}, xlabel='Пол'>"
      ]
     },
     "execution_count": 906,
     "metadata": {},
     "output_type": "execute_result"
    },
    {
     "data": {
      "image/png": "[encoded data removed]",
      "text/plain": [
       "<Figure size 432x288 with 1 Axes>"
      ]
     },
     "metadata": {
      "needs_background": "light"
     },
     "output_type": "display_data"
    }
   ],
   "source": [
    "exams.groupby('Пол')['Хорошая подготовка'].value_counts().unstack().plot(kind = 'bar', color = ['#E7EDA1', '#CDEDA1'], title = 'Хорошая подготовка по полу учеников')\n"
   ]
  },
  {
   "cell_type": "markdown",
   "id": "735d0504",
   "metadata": {},
   "source": [
    "#### На столбчатой диаграмме видно, что количество мужчин, написавших на оценку \"хорошо\" и/или \"отлично\" больше, чем количество девушек. "
   ]
  },
  {
   "cell_type": "code",
   "execution_count": 907,
   "id": "3cf99efa",
   "metadata": {},
   "outputs": [
    {
     "data": {
      "text/html": [
       "<div>\n",
       "<style scoped>\n",
       "    .dataframe tbody tr th:only-of-type {\n",
       "        vertical-align: middle;\n",
       "    }\n",
       "\n",
       "    .dataframe tbody tr th {\n",
       "        vertical-align: top;\n",
       "    }\n",
       "\n",
       "    .dataframe thead tr th {\n",
       "        text-align: left;\n",
       "    }\n",
       "\n",
       "    .dataframe thead tr:last-of-type th {\n",
       "        text-align: right;\n",
       "    }\n",
       "</style>\n",
       "<table border=\"1\" class=\"dataframe\">\n",
       "  <thead>\n",
       "    <tr>\n",
       "      <th></th>\n",
       "      <th colspan=\"3\" halign=\"left\">mean</th>\n",
       "      <th colspan=\"3\" halign=\"left\">median</th>\n",
       "    </tr>\n",
       "    <tr>\n",
       "      <th></th>\n",
       "      <th>Баллы по математике</th>\n",
       "      <th>Баллы по письменности</th>\n",
       "      <th>Баллы по чтению</th>\n",
       "      <th>Баллы по математике</th>\n",
       "      <th>Баллы по письменности</th>\n",
       "      <th>Баллы по чтению</th>\n",
       "    </tr>\n",
       "    <tr>\n",
       "      <th>Пол</th>\n",
       "      <th></th>\n",
       "      <th></th>\n",
       "      <th></th>\n",
       "      <th></th>\n",
       "      <th></th>\n",
       "      <th></th>\n",
       "    </tr>\n",
       "  </thead>\n",
       "  <tbody>\n",
       "    <tr>\n",
       "      <th>female</th>\n",
       "      <td>63.196687</td>\n",
       "      <td>71.708075</td>\n",
       "      <td>71.888199</td>\n",
       "      <td>63</td>\n",
       "      <td>72</td>\n",
       "      <td>72</td>\n",
       "    </tr>\n",
       "    <tr>\n",
       "      <th>male</th>\n",
       "      <td>69.384913</td>\n",
       "      <td>64.029014</td>\n",
       "      <td>66.305609</td>\n",
       "      <td>70</td>\n",
       "      <td>64</td>\n",
       "      <td>67</td>\n",
       "    </tr>\n",
       "  </tbody>\n",
       "</table>\n",
       "</div>"
      ],
      "text/plain": [
       "                      mean                                        \\\n",
       "       Баллы по математике Баллы по письменности Баллы по чтению   \n",
       "Пол                                                                \n",
       "female           63.196687             71.708075       71.888199   \n",
       "male             69.384913             64.029014       66.305609   \n",
       "\n",
       "                    median                                        \n",
       "       Баллы по математике Баллы по письменности Баллы по чтению  \n",
       "Пол                                                               \n",
       "female                  63                    72              72  \n",
       "male                    70                    64              67  "
      ]
     },
     "execution_count": 907,
     "metadata": {},
     "output_type": "execute_result"
    }
   ],
   "source": [
    "exams.pivot_table(index='Пол',\n",
    "                 values=['Баллы по математике', 'Баллы по чтению', 'Баллы по письменности'],\n",
    "                 aggfunc=['mean', 'median'])"
   ]
  },
  {
   "cell_type": "markdown",
   "id": "92603b35",
   "metadata": {},
   "source": [
    "## Вывод 3: пол ученика влияет на результаты. Среди студентов баллы девушек в среднем выше, чем у мужчин, по письменности и по чтению. Мужчины в среднем лучше написали экзамен по математике, чем девушки."
   ]
  },
  {
   "cell_type": "markdown",
   "id": "21045853",
   "metadata": {},
   "source": [
    "#### Определим, насколько эффективен курс подготовки к тестам"
   ]
  },
  {
   "cell_type": "code",
   "execution_count": 908,
   "id": "f48f137d",
   "metadata": {},
   "outputs": [
    {
     "data": {
      "text/html": [
       "<div>\n",
       "<style scoped>\n",
       "    .dataframe tbody tr th:only-of-type {\n",
       "        vertical-align: middle;\n",
       "    }\n",
       "\n",
       "    .dataframe tbody tr th {\n",
       "        vertical-align: top;\n",
       "    }\n",
       "\n",
       "    .dataframe thead th {\n",
       "        text-align: right;\n",
       "    }\n",
       "</style>\n",
       "<table border=\"1\" class=\"dataframe\">\n",
       "  <thead>\n",
       "    <tr style=\"text-align: right;\">\n",
       "      <th></th>\n",
       "      <th>Пол</th>\n",
       "      <th>Раса/Этническая принадлежность</th>\n",
       "      <th>Уровень образования родителей</th>\n",
       "      <th>Обед</th>\n",
       "      <th>Курс подготовки к тестам</th>\n",
       "      <th>Баллы по математике</th>\n",
       "      <th>Баллы по чтению</th>\n",
       "      <th>Баллы по письменности</th>\n",
       "      <th>Итоговые баллы</th>\n",
       "      <th>Хорошая подготовка</th>\n",
       "    </tr>\n",
       "  </thead>\n",
       "  <tbody>\n",
       "    <tr>\n",
       "      <th>0</th>\n",
       "      <td>male</td>\n",
       "      <td>group A</td>\n",
       "      <td>high school</td>\n",
       "      <td>1</td>\n",
       "      <td>1</td>\n",
       "      <td>67</td>\n",
       "      <td>67</td>\n",
       "      <td>63</td>\n",
       "      <td>197</td>\n",
       "      <td>1</td>\n",
       "    </tr>\n",
       "    <tr>\n",
       "      <th>1</th>\n",
       "      <td>female</td>\n",
       "      <td>group D</td>\n",
       "      <td>some high school</td>\n",
       "      <td>0</td>\n",
       "      <td>0</td>\n",
       "      <td>40</td>\n",
       "      <td>59</td>\n",
       "      <td>55</td>\n",
       "      <td>154</td>\n",
       "      <td>0</td>\n",
       "    </tr>\n",
       "    <tr>\n",
       "      <th>2</th>\n",
       "      <td>male</td>\n",
       "      <td>group E</td>\n",
       "      <td>some college</td>\n",
       "      <td>0</td>\n",
       "      <td>0</td>\n",
       "      <td>59</td>\n",
       "      <td>60</td>\n",
       "      <td>50</td>\n",
       "      <td>169</td>\n",
       "      <td>0</td>\n",
       "    </tr>\n",
       "    <tr>\n",
       "      <th>3</th>\n",
       "      <td>male</td>\n",
       "      <td>group B</td>\n",
       "      <td>high school</td>\n",
       "      <td>1</td>\n",
       "      <td>0</td>\n",
       "      <td>77</td>\n",
       "      <td>78</td>\n",
       "      <td>68</td>\n",
       "      <td>223</td>\n",
       "      <td>1</td>\n",
       "    </tr>\n",
       "    <tr>\n",
       "      <th>4</th>\n",
       "      <td>male</td>\n",
       "      <td>group E</td>\n",
       "      <td>associate's degree</td>\n",
       "      <td>1</td>\n",
       "      <td>1</td>\n",
       "      <td>78</td>\n",
       "      <td>73</td>\n",
       "      <td>68</td>\n",
       "      <td>219</td>\n",
       "      <td>1</td>\n",
       "    </tr>\n",
       "  </tbody>\n",
       "</table>\n",
       "</div>"
      ],
      "text/plain": [
       "      Пол Раса/Этническая принадлежность Уровень образования родителей  Обед  \\\n",
       "0    male                        group A                   high school     1   \n",
       "1  female                        group D              some high school     0   \n",
       "2    male                        group E                  some college     0   \n",
       "3    male                        group B                   high school     1   \n",
       "4    male                        group E            associate's degree     1   \n",
       "\n",
       "   Курс подготовки к тестам  Баллы по математике  Баллы по чтению  \\\n",
       "0                         1                   67               67   \n",
       "1                         0                   40               59   \n",
       "2                         0                   59               60   \n",
       "3                         0                   77               78   \n",
       "4                         1                   78               73   \n",
       "\n",
       "   Баллы по письменности  Итоговые баллы  Хорошая подготовка  \n",
       "0                     63             197                   1  \n",
       "1                     55             154                   0  \n",
       "2                     50             169                   0  \n",
       "3                     68             223                   1  \n",
       "4                     68             219                   1  "
      ]
     },
     "execution_count": 908,
     "metadata": {},
     "output_type": "execute_result"
    }
   ],
   "source": [
    "exams.head()"
   ]
  },
  {
   "cell_type": "code",
   "execution_count": 909,
   "id": "a7b63ec4",
   "metadata": {},
   "outputs": [
    {
     "data": {
      "text/html": [
       "<div>\n",
       "<style scoped>\n",
       "    .dataframe tbody tr th:only-of-type {\n",
       "        vertical-align: middle;\n",
       "    }\n",
       "\n",
       "    .dataframe tbody tr th {\n",
       "        vertical-align: top;\n",
       "    }\n",
       "\n",
       "    .dataframe thead th {\n",
       "        text-align: right;\n",
       "    }\n",
       "</style>\n",
       "<table border=\"1\" class=\"dataframe\">\n",
       "  <thead>\n",
       "    <tr style=\"text-align: right;\">\n",
       "      <th></th>\n",
       "      <th>Баллы по математике</th>\n",
       "      <th>Баллы по чтению</th>\n",
       "      <th>Баллы по письменности</th>\n",
       "    </tr>\n",
       "    <tr>\n",
       "      <th>Курс подготовки к тестам</th>\n",
       "      <th></th>\n",
       "      <th></th>\n",
       "      <th></th>\n",
       "    </tr>\n",
       "  </thead>\n",
       "  <tbody>\n",
       "    <tr>\n",
       "      <th>0</th>\n",
       "      <td>64.738346</td>\n",
       "      <td>66.439098</td>\n",
       "      <td>64.245113</td>\n",
       "    </tr>\n",
       "    <tr>\n",
       "      <th>1</th>\n",
       "      <td>69.686567</td>\n",
       "      <td>74.089552</td>\n",
       "      <td>74.671642</td>\n",
       "    </tr>\n",
       "  </tbody>\n",
       "</table>\n",
       "</div>"
      ],
      "text/plain": [
       "                          Баллы по математике  Баллы по чтению  \\\n",
       "Курс подготовки к тестам                                         \n",
       "0                                   64.738346        66.439098   \n",
       "1                                   69.686567        74.089552   \n",
       "\n",
       "                          Баллы по письменности  \n",
       "Курс подготовки к тестам                         \n",
       "0                                     64.245113  \n",
       "1                                     74.671642  "
      ]
     },
     "execution_count": 909,
     "metadata": {},
     "output_type": "execute_result"
    }
   ],
   "source": [
    "exams.groupby(['Курс подготовки к тестам'])['Баллы по математике', 'Баллы по чтению', 'Баллы по письменности'].mean()"
   ]
  },
  {
   "cell_type": "code",
   "execution_count": 910,
   "id": "f95034dd",
   "metadata": {},
   "outputs": [
    {
     "data": {
      "text/plain": [
       "<AxesSubplot:title={'center':'Средняя оценка за экзамены в зависимости от прохождения курса'}>"
      ]
     },
     "execution_count": 910,
     "metadata": {},
     "output_type": "execute_result"
    },
    {
     "data": {
      "image/png": "[encoded data removed]",
      "text/plain": [
       "<Figure size 432x288 with 1 Axes>"
      ]
     },
     "metadata": {
      "needs_background": "light"
     },
     "output_type": "display_data"
    }
   ],
   "source": [
    "exams.groupby(['Курс подготовки к тестам'])['Баллы по математике', 'Баллы по чтению', 'Баллы по письменности'].mean().T.plot(kind = 'bar', color = ['#E7EDA1', '#CDEDA1'], title = 'Средняя оценка за экзамены в зависимости от прохождения курса')"
   ]
  },
  {
   "cell_type": "markdown",
   "id": "cbda995a",
   "metadata": {},
   "source": [
    "## Вывод 4: оценка за экзамены зависит от прохождения курса подготовки к тестам. По всем 3 предметам средний балл выше у тех, кто проходил курс."
   ]
  },
  {
   "cell_type": "markdown",
   "id": "8eaad47e",
   "metadata": {},
   "source": [
    "#### Определим, влияет ли наличие обеда на успешное написание экзаменов."
   ]
  },
  {
   "cell_type": "code",
   "execution_count": 911,
   "id": "fac82634",
   "metadata": {},
   "outputs": [
    {
     "data": {
      "text/html": [
       "<div>\n",
       "<style scoped>\n",
       "    .dataframe tbody tr th:only-of-type {\n",
       "        vertical-align: middle;\n",
       "    }\n",
       "\n",
       "    .dataframe tbody tr th {\n",
       "        vertical-align: top;\n",
       "    }\n",
       "\n",
       "    .dataframe thead th {\n",
       "        text-align: right;\n",
       "    }\n",
       "</style>\n",
       "<table border=\"1\" class=\"dataframe\">\n",
       "  <thead>\n",
       "    <tr style=\"text-align: right;\">\n",
       "      <th></th>\n",
       "      <th>Баллы по математике</th>\n",
       "      <th>Баллы по чтению</th>\n",
       "      <th>Баллы по письменности</th>\n",
       "    </tr>\n",
       "    <tr>\n",
       "      <th>Обед</th>\n",
       "      <th></th>\n",
       "      <th></th>\n",
       "      <th></th>\n",
       "    </tr>\n",
       "  </thead>\n",
       "  <tbody>\n",
       "    <tr>\n",
       "      <th>0</th>\n",
       "      <td>58.505747</td>\n",
       "      <td>63.189655</td>\n",
       "      <td>60.925287</td>\n",
       "    </tr>\n",
       "    <tr>\n",
       "      <th>1</th>\n",
       "      <td>70.607362</td>\n",
       "      <td>72.104294</td>\n",
       "      <td>71.374233</td>\n",
       "    </tr>\n",
       "  </tbody>\n",
       "</table>\n",
       "</div>"
      ],
      "text/plain": [
       "      Баллы по математике  Баллы по чтению  Баллы по письменности\n",
       "Обед                                                             \n",
       "0               58.505747        63.189655              60.925287\n",
       "1               70.607362        72.104294              71.374233"
      ]
     },
     "execution_count": 911,
     "metadata": {},
     "output_type": "execute_result"
    }
   ],
   "source": [
    "exams.groupby(['Обед'])['Баллы по математике', 'Баллы по чтению', 'Баллы по письменности'].mean()"
   ]
  },
  {
   "cell_type": "code",
   "execution_count": 912,
   "id": "442c0439",
   "metadata": {},
   "outputs": [
    {
     "data": {
      "text/plain": [
       "<AxesSubplot:title={'center':'Средняя оценка за экзамены в зависимости от наличия обеда'}>"
      ]
     },
     "execution_count": 912,
     "metadata": {},
     "output_type": "execute_result"
    },
    {
     "data": {
      "image/png": "[encoded data removed]",
      "text/plain": [
       "<Figure size 432x288 with 1 Axes>"
      ]
     },
     "metadata": {
      "needs_background": "light"
     },
     "output_type": "display_data"
    }
   ],
   "source": [
    "exams.groupby(['Обед'])['Баллы по математике', 'Баллы по чтению', 'Баллы по письменности'].mean().T.plot(kind = 'bar', color = ['#E7EDA1', '#CDEDA1'], title = 'Средняя оценка за экзамены в зависимости от наличия обеда')"
   ]
  },
  {
   "cell_type": "markdown",
   "id": "1d8ca54a",
   "metadata": {},
   "source": [
    "## Вывод 5: оценка за экзамены зависит от наличия обеда. По всем 3 предметам средний балл выше у тех, кто обедает стандартно."
   ]
  },
  {
   "cell_type": "markdown",
   "id": "019fdebb",
   "metadata": {},
   "source": [
    "#### Определим, влияет ли образование родителей на успешное написание экзаменов."
   ]
  },
  {
   "cell_type": "code",
   "execution_count": 913,
   "id": "4df914a7",
   "metadata": {
    "scrolled": true
   },
   "outputs": [],
   "source": [
    "parents_score = exams.groupby(['Уровень образования родителей'])['Баллы по математике', 'Баллы по чтению', 'Баллы по письменности'].mean()"
   ]
  },
  {
   "cell_type": "code",
   "execution_count": 914,
   "id": "5ca5d289",
   "metadata": {},
   "outputs": [
    {
     "data": {
      "text/plain": [
       "<AxesSubplot:title={'center':'Баллы за экзамены в зависимости от уровня образования родителей'}, xlabel='Уровень образования родителей'>"
      ]
     },
     "execution_count": 914,
     "metadata": {},
     "output_type": "execute_result"
    },
    {
     "data": {
      "image/png": "[encoded data removed]",
      "text/plain": [
       "<Figure size 1440x720 with 1 Axes>"
      ]
     },
     "metadata": {
      "needs_background": "light"
     },
     "output_type": "display_data"
    }
   ],
   "source": [
    "parents_score.plot(kind = 'bar', figsize=(20, 10), color = ['#E7E59C', '#A1EDEB', '#E49CE7'], title = 'Баллы за экзамены в зависимости от уровня образования родителей')"
   ]
  },
  {
   "cell_type": "markdown",
   "id": "fd440ab0",
   "metadata": {},
   "source": [
    "## Вывод 6: оценка за экзамены зависит от уровня образования родителей. На столбчатой диаграмме видно, что дети родителей, которые закончили магистратуру, написали работу лучше других. Хуже всех экзамены написали дети тех родителей, которые учились в старшей школе и не закончили её. "
   ]
  },
  {
   "cell_type": "markdown",
   "id": "71f11e19",
   "metadata": {},
   "source": [
    "#### Создадим категориальные переменные на основе количетсвенных (Баллы по математике, Баллы по чтению, Баллы по письменности)."
   ]
  },
  {
   "cell_type": "code",
   "execution_count": 915,
   "id": "1e415efa",
   "metadata": {},
   "outputs": [],
   "source": [
    "def get_temp_cat(temp):\n",
    "    if temp < 2:\n",
    "        return 'Кол'\n",
    "    elif temp < 42:\n",
    "        return 'Двойка'\n",
    "    elif temp < 66:\n",
    "        return 'Тройка'\n",
    "    elif temp < 87:\n",
    "        return 'Четверка'\n",
    "    elif temp >= 87:\n",
    "        return 'Отлично'\n",
    "    else:\n",
    "        return temp"
   ]
  },
  {
   "cell_type": "code",
   "execution_count": 916,
   "id": "6416c451",
   "metadata": {},
   "outputs": [],
   "source": [
    "exams['Математика_кат'] = pd.Categorical(exams['Баллы по математике'].apply(get_temp_cat))"
   ]
  },
  {
   "cell_type": "code",
   "execution_count": 917,
   "id": "20cabd38",
   "metadata": {},
   "outputs": [],
   "source": [
    "exams['Чтение_кат'] = pd.Categorical(exams['Баллы по чтению'].apply(get_temp_cat))"
   ]
  },
  {
   "cell_type": "code",
   "execution_count": 918,
   "id": "a632453c",
   "metadata": {},
   "outputs": [],
   "source": [
    "exams['Письменность_кат'] = pd.Categorical(exams['Баллы по письменности'].apply(get_temp_cat))"
   ]
  },
  {
   "cell_type": "code",
   "execution_count": 919,
   "id": "2bbb2cf1",
   "metadata": {},
   "outputs": [
    {
     "data": {
      "text/html": [
       "<div>\n",
       "<style scoped>\n",
       "    .dataframe tbody tr th:only-of-type {\n",
       "        vertical-align: middle;\n",
       "    }\n",
       "\n",
       "    .dataframe tbody tr th {\n",
       "        vertical-align: top;\n",
       "    }\n",
       "\n",
       "    .dataframe thead th {\n",
       "        text-align: right;\n",
       "    }\n",
       "</style>\n",
       "<table border=\"1\" class=\"dataframe\">\n",
       "  <thead>\n",
       "    <tr style=\"text-align: right;\">\n",
       "      <th></th>\n",
       "      <th>Пол</th>\n",
       "      <th>Раса/Этническая принадлежность</th>\n",
       "      <th>Уровень образования родителей</th>\n",
       "      <th>Обед</th>\n",
       "      <th>Курс подготовки к тестам</th>\n",
       "      <th>Баллы по математике</th>\n",
       "      <th>Баллы по чтению</th>\n",
       "      <th>Баллы по письменности</th>\n",
       "      <th>Итоговые баллы</th>\n",
       "      <th>Хорошая подготовка</th>\n",
       "      <th>Математика_кат</th>\n",
       "      <th>Чтение_кат</th>\n",
       "      <th>Письменность_кат</th>\n",
       "    </tr>\n",
       "  </thead>\n",
       "  <tbody>\n",
       "    <tr>\n",
       "      <th>0</th>\n",
       "      <td>male</td>\n",
       "      <td>group A</td>\n",
       "      <td>high school</td>\n",
       "      <td>1</td>\n",
       "      <td>1</td>\n",
       "      <td>67</td>\n",
       "      <td>67</td>\n",
       "      <td>63</td>\n",
       "      <td>197</td>\n",
       "      <td>1</td>\n",
       "      <td>Четверка</td>\n",
       "      <td>Четверка</td>\n",
       "      <td>Тройка</td>\n",
       "    </tr>\n",
       "    <tr>\n",
       "      <th>1</th>\n",
       "      <td>female</td>\n",
       "      <td>group D</td>\n",
       "      <td>some high school</td>\n",
       "      <td>0</td>\n",
       "      <td>0</td>\n",
       "      <td>40</td>\n",
       "      <td>59</td>\n",
       "      <td>55</td>\n",
       "      <td>154</td>\n",
       "      <td>0</td>\n",
       "      <td>Двойка</td>\n",
       "      <td>Тройка</td>\n",
       "      <td>Тройка</td>\n",
       "    </tr>\n",
       "    <tr>\n",
       "      <th>2</th>\n",
       "      <td>male</td>\n",
       "      <td>group E</td>\n",
       "      <td>some college</td>\n",
       "      <td>0</td>\n",
       "      <td>0</td>\n",
       "      <td>59</td>\n",
       "      <td>60</td>\n",
       "      <td>50</td>\n",
       "      <td>169</td>\n",
       "      <td>0</td>\n",
       "      <td>Тройка</td>\n",
       "      <td>Тройка</td>\n",
       "      <td>Тройка</td>\n",
       "    </tr>\n",
       "    <tr>\n",
       "      <th>3</th>\n",
       "      <td>male</td>\n",
       "      <td>group B</td>\n",
       "      <td>high school</td>\n",
       "      <td>1</td>\n",
       "      <td>0</td>\n",
       "      <td>77</td>\n",
       "      <td>78</td>\n",
       "      <td>68</td>\n",
       "      <td>223</td>\n",
       "      <td>1</td>\n",
       "      <td>Четверка</td>\n",
       "      <td>Четверка</td>\n",
       "      <td>Четверка</td>\n",
       "    </tr>\n",
       "    <tr>\n",
       "      <th>4</th>\n",
       "      <td>male</td>\n",
       "      <td>group E</td>\n",
       "      <td>associate's degree</td>\n",
       "      <td>1</td>\n",
       "      <td>1</td>\n",
       "      <td>78</td>\n",
       "      <td>73</td>\n",
       "      <td>68</td>\n",
       "      <td>219</td>\n",
       "      <td>1</td>\n",
       "      <td>Четверка</td>\n",
       "      <td>Четверка</td>\n",
       "      <td>Четверка</td>\n",
       "    </tr>\n",
       "  </tbody>\n",
       "</table>\n",
       "</div>"
      ],
      "text/plain": [
       "      Пол Раса/Этническая принадлежность Уровень образования родителей  Обед  \\\n",
       "0    male                        group A                   high school     1   \n",
       "1  female                        group D              some high school     0   \n",
       "2    male                        group E                  some college     0   \n",
       "3    male                        group B                   high school     1   \n",
       "4    male                        group E            associate's degree     1   \n",
       "\n",
       "   Курс подготовки к тестам  Баллы по математике  Баллы по чтению  \\\n",
       "0                         1                   67               67   \n",
       "1                         0                   40               59   \n",
       "2                         0                   59               60   \n",
       "3                         0                   77               78   \n",
       "4                         1                   78               73   \n",
       "\n",
       "   Баллы по письменности  Итоговые баллы  Хорошая подготовка Математика_кат  \\\n",
       "0                     63             197                   1       Четверка   \n",
       "1                     55             154                   0         Двойка   \n",
       "2                     50             169                   0         Тройка   \n",
       "3                     68             223                   1       Четверка   \n",
       "4                     68             219                   1       Четверка   \n",
       "\n",
       "  Чтение_кат Письменность_кат  \n",
       "0   Четверка           Тройка  \n",
       "1     Тройка           Тройка  \n",
       "2     Тройка           Тройка  \n",
       "3   Четверка         Четверка  \n",
       "4   Четверка         Четверка  "
      ]
     },
     "execution_count": 919,
     "metadata": {},
     "output_type": "execute_result"
    }
   ],
   "source": [
    "exams.head()"
   ]
  },
  {
   "cell_type": "code",
   "execution_count": 920,
   "id": "b074c808",
   "metadata": {},
   "outputs": [
    {
     "data": {
      "text/html": [
       "<div>\n",
       "<style scoped>\n",
       "    .dataframe tbody tr th:only-of-type {\n",
       "        vertical-align: middle;\n",
       "    }\n",
       "\n",
       "    .dataframe tbody tr th {\n",
       "        vertical-align: top;\n",
       "    }\n",
       "\n",
       "    .dataframe thead th {\n",
       "        text-align: right;\n",
       "    }\n",
       "</style>\n",
       "<table border=\"1\" class=\"dataframe\">\n",
       "  <thead>\n",
       "    <tr style=\"text-align: right;\">\n",
       "      <th></th>\n",
       "      <th>Пол</th>\n",
       "      <th>Раса/Этническая принадлежность</th>\n",
       "      <th>Уровень образования родителей</th>\n",
       "      <th>Обед</th>\n",
       "      <th>Курс подготовки к тестам</th>\n",
       "      <th>Баллы по математике</th>\n",
       "      <th>Баллы по чтению</th>\n",
       "      <th>Баллы по письменности</th>\n",
       "      <th>Итоговые баллы</th>\n",
       "      <th>Хорошая подготовка</th>\n",
       "      <th>Математика_кат</th>\n",
       "      <th>Чтение_кат</th>\n",
       "      <th>Письменность_кат</th>\n",
       "    </tr>\n",
       "  </thead>\n",
       "  <tbody>\n",
       "    <tr>\n",
       "      <th>0</th>\n",
       "      <td>male</td>\n",
       "      <td>group A</td>\n",
       "      <td>high school</td>\n",
       "      <td>1</td>\n",
       "      <td>1</td>\n",
       "      <td>67</td>\n",
       "      <td>67</td>\n",
       "      <td>63</td>\n",
       "      <td>197</td>\n",
       "      <td>1</td>\n",
       "      <td>Четверка</td>\n",
       "      <td>Четверка</td>\n",
       "      <td>Тройка</td>\n",
       "    </tr>\n",
       "    <tr>\n",
       "      <th>3</th>\n",
       "      <td>male</td>\n",
       "      <td>group B</td>\n",
       "      <td>high school</td>\n",
       "      <td>1</td>\n",
       "      <td>0</td>\n",
       "      <td>77</td>\n",
       "      <td>78</td>\n",
       "      <td>68</td>\n",
       "      <td>223</td>\n",
       "      <td>1</td>\n",
       "      <td>Четверка</td>\n",
       "      <td>Четверка</td>\n",
       "      <td>Четверка</td>\n",
       "    </tr>\n",
       "    <tr>\n",
       "      <th>4</th>\n",
       "      <td>male</td>\n",
       "      <td>group E</td>\n",
       "      <td>associate's degree</td>\n",
       "      <td>1</td>\n",
       "      <td>1</td>\n",
       "      <td>78</td>\n",
       "      <td>73</td>\n",
       "      <td>68</td>\n",
       "      <td>219</td>\n",
       "      <td>1</td>\n",
       "      <td>Четверка</td>\n",
       "      <td>Четверка</td>\n",
       "      <td>Четверка</td>\n",
       "    </tr>\n",
       "    <tr>\n",
       "      <th>11</th>\n",
       "      <td>female</td>\n",
       "      <td>group D</td>\n",
       "      <td>high school</td>\n",
       "      <td>1</td>\n",
       "      <td>1</td>\n",
       "      <td>80</td>\n",
       "      <td>87</td>\n",
       "      <td>90</td>\n",
       "      <td>257</td>\n",
       "      <td>1</td>\n",
       "      <td>Четверка</td>\n",
       "      <td>Отлично</td>\n",
       "      <td>Отлично</td>\n",
       "    </tr>\n",
       "    <tr>\n",
       "      <th>12</th>\n",
       "      <td>male</td>\n",
       "      <td>group D</td>\n",
       "      <td>associate's degree</td>\n",
       "      <td>1</td>\n",
       "      <td>1</td>\n",
       "      <td>77</td>\n",
       "      <td>87</td>\n",
       "      <td>85</td>\n",
       "      <td>249</td>\n",
       "      <td>1</td>\n",
       "      <td>Четверка</td>\n",
       "      <td>Отлично</td>\n",
       "      <td>Четверка</td>\n",
       "    </tr>\n",
       "    <tr>\n",
       "      <th>...</th>\n",
       "      <td>...</td>\n",
       "      <td>...</td>\n",
       "      <td>...</td>\n",
       "      <td>...</td>\n",
       "      <td>...</td>\n",
       "      <td>...</td>\n",
       "      <td>...</td>\n",
       "      <td>...</td>\n",
       "      <td>...</td>\n",
       "      <td>...</td>\n",
       "      <td>...</td>\n",
       "      <td>...</td>\n",
       "      <td>...</td>\n",
       "    </tr>\n",
       "    <tr>\n",
       "      <th>992</th>\n",
       "      <td>male</td>\n",
       "      <td>group C</td>\n",
       "      <td>some college</td>\n",
       "      <td>1</td>\n",
       "      <td>0</td>\n",
       "      <td>69</td>\n",
       "      <td>63</td>\n",
       "      <td>66</td>\n",
       "      <td>198</td>\n",
       "      <td>1</td>\n",
       "      <td>Четверка</td>\n",
       "      <td>Тройка</td>\n",
       "      <td>Четверка</td>\n",
       "    </tr>\n",
       "    <tr>\n",
       "      <th>994</th>\n",
       "      <td>male</td>\n",
       "      <td>group E</td>\n",
       "      <td>high school</td>\n",
       "      <td>0</td>\n",
       "      <td>1</td>\n",
       "      <td>86</td>\n",
       "      <td>82</td>\n",
       "      <td>75</td>\n",
       "      <td>243</td>\n",
       "      <td>1</td>\n",
       "      <td>Четверка</td>\n",
       "      <td>Четверка</td>\n",
       "      <td>Четверка</td>\n",
       "    </tr>\n",
       "    <tr>\n",
       "      <th>995</th>\n",
       "      <td>male</td>\n",
       "      <td>group C</td>\n",
       "      <td>high school</td>\n",
       "      <td>1</td>\n",
       "      <td>0</td>\n",
       "      <td>73</td>\n",
       "      <td>70</td>\n",
       "      <td>65</td>\n",
       "      <td>208</td>\n",
       "      <td>1</td>\n",
       "      <td>Четверка</td>\n",
       "      <td>Четверка</td>\n",
       "      <td>Тройка</td>\n",
       "    </tr>\n",
       "    <tr>\n",
       "      <th>996</th>\n",
       "      <td>male</td>\n",
       "      <td>group D</td>\n",
       "      <td>associate's degree</td>\n",
       "      <td>0</td>\n",
       "      <td>1</td>\n",
       "      <td>85</td>\n",
       "      <td>91</td>\n",
       "      <td>92</td>\n",
       "      <td>268</td>\n",
       "      <td>1</td>\n",
       "      <td>Четверка</td>\n",
       "      <td>Отлично</td>\n",
       "      <td>Отлично</td>\n",
       "    </tr>\n",
       "    <tr>\n",
       "      <th>998</th>\n",
       "      <td>female</td>\n",
       "      <td>group C</td>\n",
       "      <td>some college</td>\n",
       "      <td>1</td>\n",
       "      <td>0</td>\n",
       "      <td>73</td>\n",
       "      <td>74</td>\n",
       "      <td>82</td>\n",
       "      <td>229</td>\n",
       "      <td>1</td>\n",
       "      <td>Четверка</td>\n",
       "      <td>Четверка</td>\n",
       "      <td>Четверка</td>\n",
       "    </tr>\n",
       "  </tbody>\n",
       "</table>\n",
       "<p>431 rows × 13 columns</p>\n",
       "</div>"
      ],
      "text/plain": [
       "        Пол Раса/Этническая принадлежность Уровень образования родителей  \\\n",
       "0      male                        group A                   high school   \n",
       "3      male                        group B                   high school   \n",
       "4      male                        group E            associate's degree   \n",
       "11   female                        group D                   high school   \n",
       "12     male                        group D            associate's degree   \n",
       "..      ...                            ...                           ...   \n",
       "992    male                        group C                  some college   \n",
       "994    male                        group E                   high school   \n",
       "995    male                        group C                   high school   \n",
       "996    male                        group D            associate's degree   \n",
       "998  female                        group C                  some college   \n",
       "\n",
       "     Обед  Курс подготовки к тестам  Баллы по математике  Баллы по чтению  \\\n",
       "0       1                         1                   67               67   \n",
       "3       1                         0                   77               78   \n",
       "4       1                         1                   78               73   \n",
       "11      1                         1                   80               87   \n",
       "12      1                         1                   77               87   \n",
       "..    ...                       ...                  ...              ...   \n",
       "992     1                         0                   69               63   \n",
       "994     0                         1                   86               82   \n",
       "995     1                         0                   73               70   \n",
       "996     0                         1                   85               91   \n",
       "998     1                         0                   73               74   \n",
       "\n",
       "     Баллы по письменности  Итоговые баллы  Хорошая подготовка Математика_кат  \\\n",
       "0                       63             197                   1       Четверка   \n",
       "3                       68             223                   1       Четверка   \n",
       "4                       68             219                   1       Четверка   \n",
       "11                      90             257                   1       Четверка   \n",
       "12                      85             249                   1       Четверка   \n",
       "..                     ...             ...                 ...            ...   \n",
       "992                     66             198                   1       Четверка   \n",
       "994                     75             243                   1       Четверка   \n",
       "995                     65             208                   1       Четверка   \n",
       "996                     92             268                   1       Четверка   \n",
       "998                     82             229                   1       Четверка   \n",
       "\n",
       "    Чтение_кат Письменность_кат  \n",
       "0     Четверка           Тройка  \n",
       "3     Четверка         Четверка  \n",
       "4     Четверка         Четверка  \n",
       "11     Отлично          Отлично  \n",
       "12     Отлично         Четверка  \n",
       "..         ...              ...  \n",
       "992     Тройка         Четверка  \n",
       "994   Четверка         Четверка  \n",
       "995   Четверка           Тройка  \n",
       "996    Отлично          Отлично  \n",
       "998   Четверка         Четверка  \n",
       "\n",
       "[431 rows x 13 columns]"
      ]
     },
     "execution_count": 920,
     "metadata": {},
     "output_type": "execute_result"
    }
   ],
   "source": [
    "exams[(exams['Математика_кат'] == 'Четверка')]"
   ]
  },
  {
   "cell_type": "markdown",
   "id": "b954cd36",
   "metadata": {},
   "source": [
    "#### 431 ученик написал экзамен по математике на оценку \"хорошо\"."
   ]
  },
  {
   "cell_type": "code",
   "execution_count": 921,
   "id": "fb96dcbf",
   "metadata": {},
   "outputs": [],
   "source": [
    "import scipy.stats"
   ]
  },
  {
   "cell_type": "code",
   "execution_count": 922,
   "id": "31c724eb",
   "metadata": {},
   "outputs": [],
   "source": [
    "exams['z-score_maths'] = scipy.stats.zscore(exams['Баллы по математике'])"
   ]
  },
  {
   "cell_type": "code",
   "execution_count": 923,
   "id": "a4011a0e",
   "metadata": {},
   "outputs": [
    {
     "data": {
      "text/html": [
       "<div>\n",
       "<style scoped>\n",
       "    .dataframe tbody tr th:only-of-type {\n",
       "        vertical-align: middle;\n",
       "    }\n",
       "\n",
       "    .dataframe tbody tr th {\n",
       "        vertical-align: top;\n",
       "    }\n",
       "\n",
       "    .dataframe thead th {\n",
       "        text-align: right;\n",
       "    }\n",
       "</style>\n",
       "<table border=\"1\" class=\"dataframe\">\n",
       "  <thead>\n",
       "    <tr style=\"text-align: right;\">\n",
       "      <th></th>\n",
       "      <th>Пол</th>\n",
       "      <th>Раса/Этническая принадлежность</th>\n",
       "      <th>Уровень образования родителей</th>\n",
       "      <th>Обед</th>\n",
       "      <th>Курс подготовки к тестам</th>\n",
       "      <th>Баллы по математике</th>\n",
       "      <th>Баллы по чтению</th>\n",
       "      <th>Баллы по письменности</th>\n",
       "      <th>Итоговые баллы</th>\n",
       "      <th>Хорошая подготовка</th>\n",
       "      <th>Математика_кат</th>\n",
       "      <th>Чтение_кат</th>\n",
       "      <th>Письменность_кат</th>\n",
       "      <th>z-score_maths</th>\n",
       "    </tr>\n",
       "  </thead>\n",
       "  <tbody>\n",
       "    <tr>\n",
       "      <th>392</th>\n",
       "      <td>female</td>\n",
       "      <td>group C</td>\n",
       "      <td>some college</td>\n",
       "      <td>0</td>\n",
       "      <td>0</td>\n",
       "      <td>13</td>\n",
       "      <td>29</td>\n",
       "      <td>23</td>\n",
       "      <td>65</td>\n",
       "      <td>0</td>\n",
       "      <td>Двойка</td>\n",
       "      <td>Двойка</td>\n",
       "      <td>Двойка</td>\n",
       "      <td>-3.468361</td>\n",
       "    </tr>\n",
       "    <tr>\n",
       "      <th>832</th>\n",
       "      <td>female</td>\n",
       "      <td>group D</td>\n",
       "      <td>some college</td>\n",
       "      <td>0</td>\n",
       "      <td>0</td>\n",
       "      <td>13</td>\n",
       "      <td>36</td>\n",
       "      <td>37</td>\n",
       "      <td>86</td>\n",
       "      <td>0</td>\n",
       "      <td>Двойка</td>\n",
       "      <td>Двойка</td>\n",
       "      <td>Двойка</td>\n",
       "      <td>-3.468361</td>\n",
       "    </tr>\n",
       "  </tbody>\n",
       "</table>\n",
       "</div>"
      ],
      "text/plain": [
       "        Пол Раса/Этническая принадлежность Уровень образования родителей  \\\n",
       "392  female                        group C                  some college   \n",
       "832  female                        group D                  some college   \n",
       "\n",
       "     Обед  Курс подготовки к тестам  Баллы по математике  Баллы по чтению  \\\n",
       "392     0                         0                   13               29   \n",
       "832     0                         0                   13               36   \n",
       "\n",
       "     Баллы по письменности  Итоговые баллы  Хорошая подготовка Математика_кат  \\\n",
       "392                     23              65                   0         Двойка   \n",
       "832                     37              86                   0         Двойка   \n",
       "\n",
       "    Чтение_кат Письменность_кат  z-score_maths  \n",
       "392     Двойка           Двойка      -3.468361  \n",
       "832     Двойка           Двойка      -3.468361  "
      ]
     },
     "execution_count": 923,
     "metadata": {},
     "output_type": "execute_result"
    }
   ],
   "source": [
    "exams[exams['z-score_maths'] < -3]"
   ]
  },
  {
   "cell_type": "markdown",
   "id": "33f23948",
   "metadata": {},
   "source": [
    "#### Всего 2 студента, которые написали экзамен по математике хуже, чем 3 стандратных отклонения. "
   ]
  },
  {
   "cell_type": "code",
   "execution_count": 924,
   "id": "ce7518ed",
   "metadata": {},
   "outputs": [
    {
     "data": {
      "text/plain": [
       "Курс подготовки к тестам\n",
       "0   -0.107674\n",
       "1    0.213740\n",
       "Name: z-score_maths, dtype: float64"
      ]
     },
     "execution_count": 924,
     "metadata": {},
     "output_type": "execute_result"
    }
   ],
   "source": [
    "exams.groupby('Курс подготовки к тестам')['z-score_maths'].mean()"
   ]
  },
  {
   "cell_type": "markdown",
   "id": "a91f3303",
   "metadata": {},
   "source": [
    "#### В среднем ученики, которые не брали курс по подготовке к тестам, сдали экзамен по математике ниже среднего, а те, кто брали - выше среднего.  "
   ]
  },
  {
   "cell_type": "code",
   "execution_count": 925,
   "id": "530df9e4",
   "metadata": {},
   "outputs": [
    {
     "data": {
      "text/plain": [
       "Обед\n",
       "0   -0.512515\n",
       "1    0.273551\n",
       "Name: z-score_maths, dtype: float64"
      ]
     },
     "execution_count": 925,
     "metadata": {},
     "output_type": "execute_result"
    }
   ],
   "source": [
    "exams.groupby('Обед')['z-score_maths'].mean()"
   ]
  },
  {
   "cell_type": "markdown",
   "id": "707147fc",
   "metadata": {},
   "source": [
    "#### В среднем ученики, которые не брали стандартный обед, сдали экзамен по математике ниже среднего, а те, кто брали - выше среднего."
   ]
  },
  {
   "cell_type": "code",
   "execution_count": 926,
   "id": "4ec84544",
   "metadata": {},
   "outputs": [],
   "source": [
    "exams['z-score_read'] = scipy.stats.zscore(exams['Баллы по чтению'])"
   ]
  },
  {
   "cell_type": "code",
   "execution_count": 927,
   "id": "3dff1074",
   "metadata": {},
   "outputs": [
    {
     "data": {
      "text/html": [
       "<div>\n",
       "<style scoped>\n",
       "    .dataframe tbody tr th:only-of-type {\n",
       "        vertical-align: middle;\n",
       "    }\n",
       "\n",
       "    .dataframe tbody tr th {\n",
       "        vertical-align: top;\n",
       "    }\n",
       "\n",
       "    .dataframe thead th {\n",
       "        text-align: right;\n",
       "    }\n",
       "</style>\n",
       "<table border=\"1\" class=\"dataframe\">\n",
       "  <thead>\n",
       "    <tr style=\"text-align: right;\">\n",
       "      <th></th>\n",
       "      <th>Пол</th>\n",
       "      <th>Раса/Этническая принадлежность</th>\n",
       "      <th>Уровень образования родителей</th>\n",
       "      <th>Обед</th>\n",
       "      <th>Курс подготовки к тестам</th>\n",
       "      <th>Баллы по математике</th>\n",
       "      <th>Баллы по чтению</th>\n",
       "      <th>Баллы по письменности</th>\n",
       "      <th>Итоговые баллы</th>\n",
       "      <th>Хорошая подготовка</th>\n",
       "      <th>Математика_кат</th>\n",
       "      <th>Чтение_кат</th>\n",
       "      <th>Письменность_кат</th>\n",
       "      <th>z-score_maths</th>\n",
       "      <th>z-score_read</th>\n",
       "    </tr>\n",
       "  </thead>\n",
       "  <tbody>\n",
       "  </tbody>\n",
       "</table>\n",
       "</div>"
      ],
      "text/plain": [
       "Empty DataFrame\n",
       "Columns: [Пол, Раса/Этническая принадлежность, Уровень образования родителей, Обед, Курс подготовки к тестам, Баллы по математике, Баллы по чтению, Баллы по письменности, Итоговые баллы, Хорошая подготовка, Математика_кат, Чтение_кат, Письменность_кат, z-score_maths, z-score_read]\n",
       "Index: []"
      ]
     },
     "execution_count": 927,
     "metadata": {},
     "output_type": "execute_result"
    }
   ],
   "source": [
    "exams[exams['z-score_read'] < -3]"
   ]
  },
  {
   "cell_type": "markdown",
   "id": "0e14e369",
   "metadata": {},
   "source": [
    "#### Нет учеников, которые написали экзамен по чтению хуже, чем 3 стандратных отклонения. "
   ]
  },
  {
   "cell_type": "code",
   "execution_count": 928,
   "id": "1e7e89fc",
   "metadata": {},
   "outputs": [
    {
     "data": {
      "text/plain": [
       "Курс подготовки к тестам\n",
       "0   -0.173993\n",
       "1    0.345389\n",
       "Name: z-score_read, dtype: float64"
      ]
     },
     "execution_count": 928,
     "metadata": {},
     "output_type": "execute_result"
    }
   ],
   "source": [
    "exams.groupby('Курс подготовки к тестам')['z-score_read'].mean()"
   ]
  },
  {
   "cell_type": "markdown",
   "id": "e46955b2",
   "metadata": {},
   "source": [
    "#### В среднем ученики, которые не брали курс по подготовке к тестам, сдали экзамен по чтению ниже среднего, а те, кто брали - выше среднего"
   ]
  },
  {
   "cell_type": "code",
   "execution_count": 929,
   "id": "245c8bf0",
   "metadata": {},
   "outputs": [
    {
     "data": {
      "text/plain": [
       "Обед\n",
       "0   -0.394595\n",
       "1    0.210612\n",
       "Name: z-score_read, dtype: float64"
      ]
     },
     "execution_count": 929,
     "metadata": {},
     "output_type": "execute_result"
    }
   ],
   "source": [
    "exams.groupby('Обед')['z-score_read'].mean()"
   ]
  },
  {
   "cell_type": "markdown",
   "id": "336417b5",
   "metadata": {},
   "source": [
    "#### В среднем ученики, которые не брали стандратный обед, сдали экзамен по чтению ниже среднего, а те, кто брали - выше среднего"
   ]
  },
  {
   "cell_type": "code",
   "execution_count": 930,
   "id": "38ef325f",
   "metadata": {},
   "outputs": [],
   "source": [
    "exams['z-score_write'] = scipy.stats.zscore(exams['Баллы по письменности'])"
   ]
  },
  {
   "cell_type": "code",
   "execution_count": 931,
   "id": "9f08d3be",
   "metadata": {},
   "outputs": [
    {
     "data": {
      "text/html": [
       "<div>\n",
       "<style scoped>\n",
       "    .dataframe tbody tr th:only-of-type {\n",
       "        vertical-align: middle;\n",
       "    }\n",
       "\n",
       "    .dataframe tbody tr th {\n",
       "        vertical-align: top;\n",
       "    }\n",
       "\n",
       "    .dataframe thead th {\n",
       "        text-align: right;\n",
       "    }\n",
       "</style>\n",
       "<table border=\"1\" class=\"dataframe\">\n",
       "  <thead>\n",
       "    <tr style=\"text-align: right;\">\n",
       "      <th></th>\n",
       "      <th>Пол</th>\n",
       "      <th>Раса/Этническая принадлежность</th>\n",
       "      <th>Уровень образования родителей</th>\n",
       "      <th>Обед</th>\n",
       "      <th>Курс подготовки к тестам</th>\n",
       "      <th>Баллы по математике</th>\n",
       "      <th>Баллы по чтению</th>\n",
       "      <th>Баллы по письменности</th>\n",
       "      <th>Итоговые баллы</th>\n",
       "      <th>Хорошая подготовка</th>\n",
       "      <th>Математика_кат</th>\n",
       "      <th>Чтение_кат</th>\n",
       "      <th>Письменность_кат</th>\n",
       "      <th>z-score_maths</th>\n",
       "      <th>z-score_read</th>\n",
       "      <th>z-score_write</th>\n",
       "    </tr>\n",
       "  </thead>\n",
       "  <tbody>\n",
       "  </tbody>\n",
       "</table>\n",
       "</div>"
      ],
      "text/plain": [
       "Empty DataFrame\n",
       "Columns: [Пол, Раса/Этническая принадлежность, Уровень образования родителей, Обед, Курс подготовки к тестам, Баллы по математике, Баллы по чтению, Баллы по письменности, Итоговые баллы, Хорошая подготовка, Математика_кат, Чтение_кат, Письменность_кат, z-score_maths, z-score_read, z-score_write]\n",
       "Index: []"
      ]
     },
     "execution_count": 931,
     "metadata": {},
     "output_type": "execute_result"
    }
   ],
   "source": [
    "exams[exams['z-score_write'] < -3]"
   ]
  },
  {
   "cell_type": "markdown",
   "id": "9bf13af2",
   "metadata": {},
   "source": [
    "#### Нет учеников, которые написали экзамен по письменности хуже, чем 3 стандратных отклонения."
   ]
  },
  {
   "cell_type": "code",
   "execution_count": 932,
   "id": "52adc4b0",
   "metadata": {},
   "outputs": [
    {
     "data": {
      "text/plain": [
       "Курс подготовки к тестам\n",
       "0   -0.224001\n",
       "1    0.444659\n",
       "Name: z-score_write, dtype: float64"
      ]
     },
     "execution_count": 932,
     "metadata": {},
     "output_type": "execute_result"
    }
   ],
   "source": [
    "exams.groupby('Курс подготовки к тестам')['z-score_write'].mean()"
   ]
  },
  {
   "cell_type": "markdown",
   "id": "58800879",
   "metadata": {},
   "source": [
    "#### В среднем ученики, которые не брали курс по подготовке к тестам, сдали экзамен по письменности ниже среднего, а те, кто брали - выше среднего."
   ]
  },
  {
   "cell_type": "code",
   "execution_count": 933,
   "id": "38ce3ea5",
   "metadata": {},
   "outputs": [
    {
     "data": {
      "text/plain": [
       "Обед\n",
       "0   -0.436903\n",
       "1    0.233194\n",
       "Name: z-score_write, dtype: float64"
      ]
     },
     "execution_count": 933,
     "metadata": {},
     "output_type": "execute_result"
    }
   ],
   "source": [
    "exams.groupby('Обед')['z-score_write'].mean()"
   ]
  },
  {
   "cell_type": "markdown",
   "id": "e0e9ee47",
   "metadata": {},
   "source": [
    "#### В среднем ученики, которые не брали стандратный обед, сдали экзамен по письменности ниже среднего, а те, кто брали - выше среднего."
   ]
  },
  {
   "cell_type": "markdown",
   "id": "3226fa01",
   "metadata": {},
   "source": [
    "## Вывод 7: ученики, которые брали курсы по подготовке к тестам и стандратно обедали, в среднем написали экзамен лучше тех, кто не проходил курс и не брал стандратный обед. "
   ]
  },
  {
   "cell_type": "code",
   "execution_count": 934,
   "id": "2f9b7288",
   "metadata": {},
   "outputs": [],
   "source": [
    "math = exams['Баллы по математике']\n",
    "read = exams['Баллы по чтению']\n",
    "write = exams['Баллы по письменности']"
   ]
  },
  {
   "cell_type": "code",
   "execution_count": 935,
   "id": "dd51f3d7",
   "metadata": {},
   "outputs": [
    {
     "data": {
      "text/html": [
       "<div>\n",
       "<style scoped>\n",
       "    .dataframe tbody tr th:only-of-type {\n",
       "        vertical-align: middle;\n",
       "    }\n",
       "\n",
       "    .dataframe tbody tr th {\n",
       "        vertical-align: top;\n",
       "    }\n",
       "\n",
       "    .dataframe thead th {\n",
       "        text-align: right;\n",
       "    }\n",
       "</style>\n",
       "<table border=\"1\" class=\"dataframe\">\n",
       "  <thead>\n",
       "    <tr style=\"text-align: right;\">\n",
       "      <th></th>\n",
       "      <th>Баллы по математике</th>\n",
       "      <th>Баллы по чтению</th>\n",
       "      <th>Баллы по письменности</th>\n",
       "    </tr>\n",
       "  </thead>\n",
       "  <tbody>\n",
       "    <tr>\n",
       "      <th>0</th>\n",
       "      <td>67</td>\n",
       "      <td>67</td>\n",
       "      <td>63</td>\n",
       "    </tr>\n",
       "    <tr>\n",
       "      <th>1</th>\n",
       "      <td>40</td>\n",
       "      <td>59</td>\n",
       "      <td>55</td>\n",
       "    </tr>\n",
       "    <tr>\n",
       "      <th>2</th>\n",
       "      <td>59</td>\n",
       "      <td>60</td>\n",
       "      <td>50</td>\n",
       "    </tr>\n",
       "    <tr>\n",
       "      <th>3</th>\n",
       "      <td>77</td>\n",
       "      <td>78</td>\n",
       "      <td>68</td>\n",
       "    </tr>\n",
       "    <tr>\n",
       "      <th>4</th>\n",
       "      <td>78</td>\n",
       "      <td>73</td>\n",
       "      <td>68</td>\n",
       "    </tr>\n",
       "    <tr>\n",
       "      <th>...</th>\n",
       "      <td>...</td>\n",
       "      <td>...</td>\n",
       "      <td>...</td>\n",
       "    </tr>\n",
       "    <tr>\n",
       "      <th>995</th>\n",
       "      <td>73</td>\n",
       "      <td>70</td>\n",
       "      <td>65</td>\n",
       "    </tr>\n",
       "    <tr>\n",
       "      <th>996</th>\n",
       "      <td>85</td>\n",
       "      <td>91</td>\n",
       "      <td>92</td>\n",
       "    </tr>\n",
       "    <tr>\n",
       "      <th>997</th>\n",
       "      <td>32</td>\n",
       "      <td>35</td>\n",
       "      <td>41</td>\n",
       "    </tr>\n",
       "    <tr>\n",
       "      <th>998</th>\n",
       "      <td>73</td>\n",
       "      <td>74</td>\n",
       "      <td>82</td>\n",
       "    </tr>\n",
       "    <tr>\n",
       "      <th>999</th>\n",
       "      <td>65</td>\n",
       "      <td>60</td>\n",
       "      <td>62</td>\n",
       "    </tr>\n",
       "  </tbody>\n",
       "</table>\n",
       "<p>1000 rows × 3 columns</p>\n",
       "</div>"
      ],
      "text/plain": [
       "     Баллы по математике  Баллы по чтению  Баллы по письменности\n",
       "0                     67               67                     63\n",
       "1                     40               59                     55\n",
       "2                     59               60                     50\n",
       "3                     77               78                     68\n",
       "4                     78               73                     68\n",
       "..                   ...              ...                    ...\n",
       "995                   73               70                     65\n",
       "996                   85               91                     92\n",
       "997                   32               35                     41\n",
       "998                   73               74                     82\n",
       "999                   65               60                     62\n",
       "\n",
       "[1000 rows x 3 columns]"
      ]
     },
     "execution_count": 935,
     "metadata": {},
     "output_type": "execute_result"
    }
   ],
   "source": [
    "exams_new = pd.concat([math, read, write], axis=1)\n",
    "exams_new"
   ]
  },
  {
   "cell_type": "code",
   "execution_count": 936,
   "id": "73fcd994",
   "metadata": {
    "scrolled": true
   },
   "outputs": [
    {
     "data": {
      "text/html": [
       "<div>\n",
       "<style scoped>\n",
       "    .dataframe tbody tr th:only-of-type {\n",
       "        vertical-align: middle;\n",
       "    }\n",
       "\n",
       "    .dataframe tbody tr th {\n",
       "        vertical-align: top;\n",
       "    }\n",
       "\n",
       "    .dataframe thead th {\n",
       "        text-align: right;\n",
       "    }\n",
       "</style>\n",
       "<table border=\"1\" class=\"dataframe\">\n",
       "  <thead>\n",
       "    <tr style=\"text-align: right;\">\n",
       "      <th></th>\n",
       "      <th>Баллы по математике</th>\n",
       "      <th>Баллы по чтению</th>\n",
       "      <th>Баллы по письменности</th>\n",
       "    </tr>\n",
       "  </thead>\n",
       "  <tbody>\n",
       "    <tr>\n",
       "      <th>Баллы по математике</th>\n",
       "      <td>1.000000</td>\n",
       "      <td>0.819398</td>\n",
       "      <td>0.805944</td>\n",
       "    </tr>\n",
       "    <tr>\n",
       "      <th>Баллы по чтению</th>\n",
       "      <td>0.819398</td>\n",
       "      <td>1.000000</td>\n",
       "      <td>0.954274</td>\n",
       "    </tr>\n",
       "    <tr>\n",
       "      <th>Баллы по письменности</th>\n",
       "      <td>0.805944</td>\n",
       "      <td>0.954274</td>\n",
       "      <td>1.000000</td>\n",
       "    </tr>\n",
       "  </tbody>\n",
       "</table>\n",
       "</div>"
      ],
      "text/plain": [
       "                       Баллы по математике  Баллы по чтению  \\\n",
       "Баллы по математике               1.000000         0.819398   \n",
       "Баллы по чтению                   0.819398         1.000000   \n",
       "Баллы по письменности             0.805944         0.954274   \n",
       "\n",
       "                       Баллы по письменности  \n",
       "Баллы по математике                 0.805944  \n",
       "Баллы по чтению                     0.954274  \n",
       "Баллы по письменности               1.000000  "
      ]
     },
     "execution_count": 936,
     "metadata": {},
     "output_type": "execute_result"
    }
   ],
   "source": [
    "exams_new.corr()"
   ]
  },
  {
   "cell_type": "markdown",
   "id": "dd84d21a",
   "metadata": {},
   "source": [
    "#### Корреляция между баллами по чтению и баллами по математике - высокая. Корреляция между баллами по письменности и баллами по математике - высокая. Корреляция между баллами по письменности и баллами по чтению - весьма высокая (сильная). "
   ]
  },
  {
   "cell_type": "code",
   "execution_count": 937,
   "id": "ff5eccd0",
   "metadata": {},
   "outputs": [
    {
     "data": {
      "text/plain": [
       "<AxesSubplot:title={'center':'График рассеивания: математика и чтение'}, xlabel='Баллы по математике', ylabel='Баллы по чтению'>"
      ]
     },
     "execution_count": 937,
     "metadata": {},
     "output_type": "execute_result"
    },
    {
     "data": {
      "image/png": "[encoded data removed]",
      "text/plain": [
       "<Figure size 432x288 with 1 Axes>"
      ]
     },
     "metadata": {
      "needs_background": "light"
     },
     "output_type": "display_data"
    }
   ],
   "source": [
    "exams_new.plot('Баллы по математике', 'Баллы по чтению', kind = 'scatter', c = '#EDA1E6', title = 'График рассеивания: математика и чтение')"
   ]
  },
  {
   "cell_type": "code",
   "execution_count": 938,
   "id": "c9e3ba96",
   "metadata": {},
   "outputs": [
    {
     "data": {
      "text/plain": [
       "<AxesSubplot:title={'center':'График рассеивания: математика и письменность'}, xlabel='Баллы по математике', ylabel='Баллы по письменности'>"
      ]
     },
     "execution_count": 938,
     "metadata": {},
     "output_type": "execute_result"
    },
    {
     "data": {
      "image/png": "[encoded data removed]",
      "text/plain": [
       "<Figure size 432x288 with 1 Axes>"
      ]
     },
     "metadata": {
      "needs_background": "light"
     },
     "output_type": "display_data"
    }
   ],
   "source": [
    "exams_new.plot('Баллы по математике', 'Баллы по письменности', kind = 'scatter', c = '#A1EAED', title = 'График рассеивания: математика и письменность')"
   ]
  },
  {
   "cell_type": "code",
   "execution_count": 939,
   "id": "38777f17",
   "metadata": {},
   "outputs": [
    {
     "data": {
      "text/plain": [
       "<AxesSubplot:title={'center':'График рассеивания: чтение и письменность'}, xlabel='Баллы по чтению', ylabel='Баллы по письменности'>"
      ]
     },
     "execution_count": 939,
     "metadata": {},
     "output_type": "execute_result"
    },
    {
     "data": {
      "image/png": "[encoded data removed]",
      "text/plain": [
       "<Figure size 432x288 with 1 Axes>"
      ]
     },
     "metadata": {
      "needs_background": "light"
     },
     "output_type": "display_data"
    }
   ],
   "source": [
    "exams_new.plot('Баллы по чтению', 'Баллы по письменности', kind = 'scatter', c = '#EDECA1', title = 'График рассеивания: чтение и письменность')"
   ]
  },
  {
   "cell_type": "markdown",
   "id": "f2f957dd",
   "metadata": {},
   "source": [
    "## Вывод 8: баллы за экзамены имеют высокую корреляцию. Наиболее сильная связь между баллами по чтению и баллами по письменности (сильная связь). "
   ]
  },
  {
   "cell_type": "code",
   "execution_count": 940,
   "id": "5aec28cd",
   "metadata": {},
   "outputs": [],
   "source": [
    "group = exams.groupby(exams['Раса/Этническая принадлежность'])['Баллы по математике', 'Баллы по чтению', 'Баллы по письменности'].mean()"
   ]
  },
  {
   "cell_type": "code",
   "execution_count": 941,
   "id": "aa172a88",
   "metadata": {},
   "outputs": [
    {
     "data": {
      "text/plain": [
       "<AxesSubplot:title={'center':'Баллы за экзамены в зависимости от этнической принадлежности'}, xlabel='Раса/Этническая принадлежность'>"
      ]
     },
     "execution_count": 941,
     "metadata": {},
     "output_type": "execute_result"
    },
    {
     "data": {
      "image/png": "[encoded data removed]",
      "text/plain": [
       "<Figure size 1440x720 with 1 Axes>"
      ]
     },
     "metadata": {
      "needs_background": "light"
     },
     "output_type": "display_data"
    }
   ],
   "source": [
    "group.plot(kind = 'bar', figsize=(20, 10), color = ['#E7E59C', '#A1EDEB', '#E49CE7'], title = 'Баллы за экзамены в зависимости от этнической принадлежности')\n"
   ]
  },
  {
   "cell_type": "code",
   "execution_count": 942,
   "id": "58a97711",
   "metadata": {},
   "outputs": [
    {
     "data": {
      "text/plain": [
       "Text(0.5, 0.98, 'Баллы по математике в разных этнических группах')"
      ]
     },
     "execution_count": 942,
     "metadata": {},
     "output_type": "execute_result"
    },
    {
     "data": {
      "image/png": "[encoded data removed]",
      "text/plain": [
       "<Figure size 720x360 with 1 Axes>"
      ]
     },
     "metadata": {
      "needs_background": "light"
     },
     "output_type": "display_data"
    }
   ],
   "source": [
    "fig, ax = plt.subplots(figsize = (10,5))\n",
    "ax.bar(group.index, group['Баллы по математике'], color = ['#E7E59C', '#8574DB', '#E49CE7', '#CDEDA1', '#A1EDEB'])\n",
    "ax.set_xlabel('Раса/Этническая принадлежность', c = '#6F0C7A')\n",
    "ax.set_ylabel('Баллы по математике', c = '#6F0C7A')\n",
    "ax.spines['right'].set_visible(False)\n",
    "ax.spines['top'].set_visible(False)\n",
    "fig.suptitle('Баллы по математике в разных этнических группах', fontsize=15, c = '#6F0C7A')"
   ]
  },
  {
   "cell_type": "code",
   "execution_count": 943,
   "id": "e62ea027",
   "metadata": {},
   "outputs": [
    {
     "data": {
      "text/plain": [
       "Text(0.5, 0.98, 'Баллы по чтению в разных этнических группах')"
      ]
     },
     "execution_count": 943,
     "metadata": {},
     "output_type": "execute_result"
    },
    {
     "data": {
      "image/png": "[encoded data removed]",
      "text/plain": [
       "<Figure size 720x360 with 1 Axes>"
      ]
     },
     "metadata": {
      "needs_background": "light"
     },
     "output_type": "display_data"
    }
   ],
   "source": [
    "fig, ax = plt.subplots(figsize = (10,5))\n",
    "ax.bar(group.index, group['Баллы по чтению'], color = ['#E7E59C', '#8574DB', '#E49CE7', '#CDEDA1', '#A1EDEB'])\n",
    "ax.set_xlabel('Раса/Этническая принадлежность', c = '#6F0C7A')\n",
    "ax.set_ylabel('Баллы по чтению', c = '#6F0C7A')\n",
    "ax.spines['right'].set_visible(False)\n",
    "ax.spines['top'].set_visible(False)\n",
    "fig.suptitle('Баллы по чтению в разных этнических группах', fontsize=15, c = '#6F0C7A')"
   ]
  },
  {
   "cell_type": "code",
   "execution_count": 944,
   "id": "45c8b524",
   "metadata": {},
   "outputs": [
    {
     "data": {
      "text/plain": [
       "Text(0.5, 0.98, 'Баллы по письменности в разных этнических группах')"
      ]
     },
     "execution_count": 944,
     "metadata": {},
     "output_type": "execute_result"
    },
    {
     "data": {
      "image/png": "[encoded data removed]",
      "text/plain": [
       "<Figure size 720x360 with 1 Axes>"
      ]
     },
     "metadata": {
      "needs_background": "light"
     },
     "output_type": "display_data"
    }
   ],
   "source": [
    "fig, ax = plt.subplots(figsize = (10,5))\n",
    "ax.bar(group.index, group['Баллы по письменности'], color = ['#E7E59C', '#8574DB', '#E49CE7', '#CDEDA1', '#A1EDEB'])\n",
    "ax.set_xlabel('Раса/Этническая принадлежность', c = '#6F0C7A')\n",
    "ax.set_ylabel('Баллы по письменности', c = '#6F0C7A')\n",
    "ax.spines['right'].set_visible(False)\n",
    "ax.spines['top'].set_visible(False)\n",
    "fig.suptitle('Баллы по письменности в разных этнических группах', fontsize=15, c = '#6F0C7A')"
   ]
  },
  {
   "cell_type": "markdown",
   "id": "255077e8",
   "metadata": {},
   "source": [
    "## Вывод 9: ученики из группы E лучше всего справились с экзаменами по математике и чтению. Ученики из группы D лучше всего справились с экзаменом по письменности. Ученики из группы C хуже всего справились со всеми тремя экзаменами."
   ]
  },
  {
   "cell_type": "markdown",
   "id": "8ff770ae",
   "metadata": {},
   "source": [
    "# Общий вывод: для того, чтобы улучшить баллы за экзамены, ученикам нужно брать курс подготовки к тестами и брать стандартный обед. Кроме того, ученикам рекомендовано задуматься о дальнейшем образовании, так как оно может повлиять на успеваемость их детей. Преподавателям рекомендовано избегать расовой дискриминации и уделять всем ученикам одинаковое внимание. Если расовой дискриминации нет, возможно недопонимание в процессе обучения со стороны некоторых этнических групп. В таком случае, им нужно приложить бОльшие усилия для освоения материала. "
   ]
  },
  {
   "cell_type": "code",
   "execution_count": null,
   "id": "6a353299",
   "metadata": {},
   "outputs": [],
   "source": []
  }
 ],
 "metadata": {
  "kernelspec": {
   "display_name": "Python 3 (ipykernel)",
   "language": "python",
   "name": "python3"
  },
  "language_info": {
   "codemirror_mode": {
    "name": "ipython",
    "version": 3
   },
   "file_extension": ".py",
   "mimetype": "text/x-python",
   "name": "python",
   "nbconvert_exporter": "python",
   "pygments_lexer": "ipython3",
   "version": "3.9.12"
  }
 },
 "nbformat": 4,
 "nbformat_minor": 5
}
